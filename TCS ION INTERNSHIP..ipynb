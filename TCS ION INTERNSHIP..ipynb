{
 "cells": [
  {
   "cell_type": "code",
   "execution_count": 1,
   "id": "c6553e5e",
   "metadata": {},
   "outputs": [],
   "source": [
    "import numpy as np\n",
    "import pandas as pd\n",
    "import matplotlib.pyplot as plt\n",
    "import seaborn as sns"
   ]
  },
  {
   "cell_type": "code",
   "execution_count": 2,
   "id": "bbd5be09",
   "metadata": {},
   "outputs": [],
   "source": [
    "df = pd.read_csv('drug1.csv')"
   ]
  },
  {
   "cell_type": "code",
   "execution_count": 3,
   "id": "e27bd771",
   "metadata": {},
   "outputs": [
    {
     "data": {
      "text/html": [
       "<div>\n",
       "<style scoped>\n",
       "    .dataframe tbody tr th:only-of-type {\n",
       "        vertical-align: middle;\n",
       "    }\n",
       "\n",
       "    .dataframe tbody tr th {\n",
       "        vertical-align: top;\n",
       "    }\n",
       "\n",
       "    .dataframe thead th {\n",
       "        text-align: right;\n",
       "    }\n",
       "</style>\n",
       "<table border=\"1\" class=\"dataframe\">\n",
       "  <thead>\n",
       "    <tr style=\"text-align: right;\">\n",
       "      <th></th>\n",
       "      <th>Unnamed: 0</th>\n",
       "      <th>urlDrugName</th>\n",
       "      <th>rating</th>\n",
       "      <th>effectiveness</th>\n",
       "      <th>condition</th>\n",
       "      <th>sideEffects</th>\n",
       "    </tr>\n",
       "  </thead>\n",
       "  <tbody>\n",
       "    <tr>\n",
       "      <th>0</th>\n",
       "      <td>0</td>\n",
       "      <td>enalapril</td>\n",
       "      <td>4</td>\n",
       "      <td>Highly Effective</td>\n",
       "      <td>management of congestive heart failure</td>\n",
       "      <td>Mild Side Effects</td>\n",
       "    </tr>\n",
       "    <tr>\n",
       "      <th>1</th>\n",
       "      <td>1</td>\n",
       "      <td>ortho-tri-cyclen</td>\n",
       "      <td>1</td>\n",
       "      <td>Highly Effective</td>\n",
       "      <td>birth prevention</td>\n",
       "      <td>Severe Side Effects</td>\n",
       "    </tr>\n",
       "    <tr>\n",
       "      <th>2</th>\n",
       "      <td>2</td>\n",
       "      <td>ponstel</td>\n",
       "      <td>10</td>\n",
       "      <td>Highly Effective</td>\n",
       "      <td>menstrual cramps</td>\n",
       "      <td>No Side Effects</td>\n",
       "    </tr>\n",
       "    <tr>\n",
       "      <th>3</th>\n",
       "      <td>3</td>\n",
       "      <td>prilosec</td>\n",
       "      <td>3</td>\n",
       "      <td>Marginally Effective</td>\n",
       "      <td>acid reflux</td>\n",
       "      <td>Mild Side Effects</td>\n",
       "    </tr>\n",
       "    <tr>\n",
       "      <th>4</th>\n",
       "      <td>4</td>\n",
       "      <td>lyrica</td>\n",
       "      <td>2</td>\n",
       "      <td>Marginally Effective</td>\n",
       "      <td>fibromyalgia</td>\n",
       "      <td>Severe Side Effects</td>\n",
       "    </tr>\n",
       "  </tbody>\n",
       "</table>\n",
       "</div>"
      ],
      "text/plain": [
       "   Unnamed: 0       urlDrugName  rating         effectiveness  \\\n",
       "0           0         enalapril       4      Highly Effective   \n",
       "1           1  ortho-tri-cyclen       1      Highly Effective   \n",
       "2           2           ponstel      10      Highly Effective   \n",
       "3           3          prilosec       3  Marginally Effective   \n",
       "4           4            lyrica       2  Marginally Effective   \n",
       "\n",
       "                                condition          sideEffects  \n",
       "0  management of congestive heart failure    Mild Side Effects  \n",
       "1                        birth prevention  Severe Side Effects  \n",
       "2                        menstrual cramps      No Side Effects  \n",
       "3                             acid reflux    Mild Side Effects  \n",
       "4                            fibromyalgia  Severe Side Effects  "
      ]
     },
     "execution_count": 3,
     "metadata": {},
     "output_type": "execute_result"
    }
   ],
   "source": [
    "df.head()"
   ]
  },
  {
   "cell_type": "code",
   "execution_count": 4,
   "id": "45be53ee",
   "metadata": {},
   "outputs": [],
   "source": [
    "df=df.drop('Unnamed: 0',axis=1)"
   ]
  },
  {
   "cell_type": "code",
   "execution_count": 5,
   "id": "dc2159ca",
   "metadata": {},
   "outputs": [],
   "source": [
    "df.rename(columns = {'urlDrugName':'DrugName'}, inplace = True)"
   ]
  },
  {
   "cell_type": "code",
   "execution_count": 6,
   "id": "f8ee8318",
   "metadata": {},
   "outputs": [
    {
     "data": {
      "text/html": [
       "<div>\n",
       "<style scoped>\n",
       "    .dataframe tbody tr th:only-of-type {\n",
       "        vertical-align: middle;\n",
       "    }\n",
       "\n",
       "    .dataframe tbody tr th {\n",
       "        vertical-align: top;\n",
       "    }\n",
       "\n",
       "    .dataframe thead th {\n",
       "        text-align: right;\n",
       "    }\n",
       "</style>\n",
       "<table border=\"1\" class=\"dataframe\">\n",
       "  <thead>\n",
       "    <tr style=\"text-align: right;\">\n",
       "      <th></th>\n",
       "      <th>DrugName</th>\n",
       "      <th>rating</th>\n",
       "      <th>effectiveness</th>\n",
       "      <th>condition</th>\n",
       "      <th>sideEffects</th>\n",
       "    </tr>\n",
       "  </thead>\n",
       "  <tbody>\n",
       "    <tr>\n",
       "      <th>0</th>\n",
       "      <td>enalapril</td>\n",
       "      <td>4</td>\n",
       "      <td>Highly Effective</td>\n",
       "      <td>management of congestive heart failure</td>\n",
       "      <td>Mild Side Effects</td>\n",
       "    </tr>\n",
       "    <tr>\n",
       "      <th>1</th>\n",
       "      <td>ortho-tri-cyclen</td>\n",
       "      <td>1</td>\n",
       "      <td>Highly Effective</td>\n",
       "      <td>birth prevention</td>\n",
       "      <td>Severe Side Effects</td>\n",
       "    </tr>\n",
       "    <tr>\n",
       "      <th>2</th>\n",
       "      <td>ponstel</td>\n",
       "      <td>10</td>\n",
       "      <td>Highly Effective</td>\n",
       "      <td>menstrual cramps</td>\n",
       "      <td>No Side Effects</td>\n",
       "    </tr>\n",
       "    <tr>\n",
       "      <th>3</th>\n",
       "      <td>prilosec</td>\n",
       "      <td>3</td>\n",
       "      <td>Marginally Effective</td>\n",
       "      <td>acid reflux</td>\n",
       "      <td>Mild Side Effects</td>\n",
       "    </tr>\n",
       "    <tr>\n",
       "      <th>4</th>\n",
       "      <td>lyrica</td>\n",
       "      <td>2</td>\n",
       "      <td>Marginally Effective</td>\n",
       "      <td>fibromyalgia</td>\n",
       "      <td>Severe Side Effects</td>\n",
       "    </tr>\n",
       "  </tbody>\n",
       "</table>\n",
       "</div>"
      ],
      "text/plain": [
       "           DrugName  rating         effectiveness  \\\n",
       "0         enalapril       4      Highly Effective   \n",
       "1  ortho-tri-cyclen       1      Highly Effective   \n",
       "2           ponstel      10      Highly Effective   \n",
       "3          prilosec       3  Marginally Effective   \n",
       "4            lyrica       2  Marginally Effective   \n",
       "\n",
       "                                condition          sideEffects  \n",
       "0  management of congestive heart failure    Mild Side Effects  \n",
       "1                        birth prevention  Severe Side Effects  \n",
       "2                        menstrual cramps      No Side Effects  \n",
       "3                             acid reflux    Mild Side Effects  \n",
       "4                            fibromyalgia  Severe Side Effects  "
      ]
     },
     "execution_count": 6,
     "metadata": {},
     "output_type": "execute_result"
    }
   ],
   "source": [
    "df.head()"
   ]
  },
  {
   "cell_type": "raw",
   "id": "1d67997e",
   "metadata": {},
   "source": [
    "DrugName - Name of the Drugs\n",
    "rating - rating of different given by the patients who used it\n",
    "effectiveness - the effectiveness of the drug \n",
    "condition - condition for which the drug is used\n",
    "sideEffects - sideeffects faces by patients when they intake the drugs"
   ]
  },
  {
   "cell_type": "code",
   "execution_count": 7,
   "id": "aafaab7f",
   "metadata": {},
   "outputs": [
    {
     "name": "stdout",
     "output_type": "stream",
     "text": [
      "<class 'pandas.core.frame.DataFrame'>\n",
      "RangeIndex: 3107 entries, 0 to 3106\n",
      "Data columns (total 5 columns):\n",
      " #   Column         Non-Null Count  Dtype \n",
      "---  ------         --------------  ----- \n",
      " 0   DrugName       3107 non-null   object\n",
      " 1   rating         3107 non-null   int64 \n",
      " 2   effectiveness  3107 non-null   object\n",
      " 3   condition      3106 non-null   object\n",
      " 4   sideEffects    3107 non-null   object\n",
      "dtypes: int64(1), object(4)\n",
      "memory usage: 121.5+ KB\n"
     ]
    }
   ],
   "source": [
    "df.info()"
   ]
  },
  {
   "cell_type": "code",
   "execution_count": 8,
   "id": "cbf55488",
   "metadata": {},
   "outputs": [
    {
     "data": {
      "text/plain": [
       "(3107, 5)"
      ]
     },
     "execution_count": 8,
     "metadata": {},
     "output_type": "execute_result"
    }
   ],
   "source": [
    "df.shape"
   ]
  },
  {
   "cell_type": "markdown",
   "id": "f4411450",
   "metadata": {},
   "source": [
    "There are 3107 rows and 5 columns"
   ]
  },
  {
   "cell_type": "code",
   "execution_count": 9,
   "id": "a0198d73",
   "metadata": {},
   "outputs": [
    {
     "data": {
      "text/html": [
       "<div>\n",
       "<style scoped>\n",
       "    .dataframe tbody tr th:only-of-type {\n",
       "        vertical-align: middle;\n",
       "    }\n",
       "\n",
       "    .dataframe tbody tr th {\n",
       "        vertical-align: top;\n",
       "    }\n",
       "\n",
       "    .dataframe thead th {\n",
       "        text-align: right;\n",
       "    }\n",
       "</style>\n",
       "<table border=\"1\" class=\"dataframe\">\n",
       "  <thead>\n",
       "    <tr style=\"text-align: right;\">\n",
       "      <th></th>\n",
       "      <th>DrugName</th>\n",
       "      <th>condition</th>\n",
       "    </tr>\n",
       "  </thead>\n",
       "  <tbody>\n",
       "    <tr>\n",
       "      <th>0</th>\n",
       "      <td>enalapril</td>\n",
       "      <td>management of congestive heart failure</td>\n",
       "    </tr>\n",
       "    <tr>\n",
       "      <th>1</th>\n",
       "      <td>ortho-tri-cyclen</td>\n",
       "      <td>birth prevention</td>\n",
       "    </tr>\n",
       "    <tr>\n",
       "      <th>2</th>\n",
       "      <td>ponstel</td>\n",
       "      <td>menstrual cramps</td>\n",
       "    </tr>\n",
       "    <tr>\n",
       "      <th>3</th>\n",
       "      <td>prilosec</td>\n",
       "      <td>acid reflux</td>\n",
       "    </tr>\n",
       "    <tr>\n",
       "      <th>4</th>\n",
       "      <td>lyrica</td>\n",
       "      <td>fibromyalgia</td>\n",
       "    </tr>\n",
       "    <tr>\n",
       "      <th>5</th>\n",
       "      <td>propecia</td>\n",
       "      <td>hair loss</td>\n",
       "    </tr>\n",
       "    <tr>\n",
       "      <th>6</th>\n",
       "      <td>vyvanse</td>\n",
       "      <td>add</td>\n",
       "    </tr>\n",
       "    <tr>\n",
       "      <th>7</th>\n",
       "      <td>elavil</td>\n",
       "      <td>depression</td>\n",
       "    </tr>\n",
       "    <tr>\n",
       "      <th>8</th>\n",
       "      <td>xanax</td>\n",
       "      <td>panic disorder</td>\n",
       "    </tr>\n",
       "    <tr>\n",
       "      <th>9</th>\n",
       "      <td>claritin</td>\n",
       "      <td>allergies</td>\n",
       "    </tr>\n",
       "    <tr>\n",
       "      <th>10</th>\n",
       "      <td>flagyl</td>\n",
       "      <td>bacterial vaginosis</td>\n",
       "    </tr>\n",
       "    <tr>\n",
       "      <th>11</th>\n",
       "      <td>dextroamphetamine</td>\n",
       "      <td>add</td>\n",
       "    </tr>\n",
       "    <tr>\n",
       "      <th>12</th>\n",
       "      <td>sarafem</td>\n",
       "      <td>depression</td>\n",
       "    </tr>\n",
       "    <tr>\n",
       "      <th>13</th>\n",
       "      <td>latisse</td>\n",
       "      <td>sparse eyelashes</td>\n",
       "    </tr>\n",
       "    <tr>\n",
       "      <th>14</th>\n",
       "      <td>aldara</td>\n",
       "      <td>skin cancer</td>\n",
       "    </tr>\n",
       "    <tr>\n",
       "      <th>15</th>\n",
       "      <td>effexor-xr</td>\n",
       "      <td>anxiety</td>\n",
       "    </tr>\n",
       "    <tr>\n",
       "      <th>16</th>\n",
       "      <td>neurontin</td>\n",
       "      <td>nerve disorder</td>\n",
       "    </tr>\n",
       "    <tr>\n",
       "      <th>17</th>\n",
       "      <td>omnicef</td>\n",
       "      <td>sore throat ear infections</td>\n",
       "    </tr>\n",
       "    <tr>\n",
       "      <th>18</th>\n",
       "      <td>klonopin</td>\n",
       "      <td>generalized anxiety disorder</td>\n",
       "    </tr>\n",
       "    <tr>\n",
       "      <th>19</th>\n",
       "      <td>dovonex</td>\n",
       "      <td>psoriasis</td>\n",
       "    </tr>\n",
       "  </tbody>\n",
       "</table>\n",
       "</div>"
      ],
      "text/plain": [
       "             DrugName                               condition\n",
       "0           enalapril  management of congestive heart failure\n",
       "1    ortho-tri-cyclen                        birth prevention\n",
       "2             ponstel                        menstrual cramps\n",
       "3            prilosec                             acid reflux\n",
       "4              lyrica                            fibromyalgia\n",
       "5            propecia                               hair loss\n",
       "6             vyvanse                                     add\n",
       "7              elavil                              depression\n",
       "8               xanax                          panic disorder\n",
       "9            claritin                               allergies\n",
       "10             flagyl                     bacterial vaginosis\n",
       "11  dextroamphetamine                                     add\n",
       "12            sarafem                              depression\n",
       "13            latisse                        sparse eyelashes\n",
       "14             aldara                             skin cancer\n",
       "15         effexor-xr                                 anxiety\n",
       "16          neurontin                          nerve disorder\n",
       "17            omnicef              sore throat ear infections\n",
       "18           klonopin            generalized anxiety disorder\n",
       "19            dovonex                               psoriasis"
      ]
     },
     "execution_count": 9,
     "metadata": {},
     "output_type": "execute_result"
    }
   ],
   "source": [
    "df[['DrugName','condition']].head(20)"
   ]
  },
  {
   "cell_type": "raw",
   "id": "781df9d7",
   "metadata": {},
   "source": [
    "These are the different drugs treated for specific conditions"
   ]
  },
  {
   "cell_type": "code",
   "execution_count": 10,
   "id": "593845fe",
   "metadata": {},
   "outputs": [
    {
     "name": "stdout",
     "output_type": "stream",
     "text": [
      "DrugName ['enalapril' 'ortho-tri-cyclen' 'ponstel' 'prilosec' 'lyrica' 'propecia'\n",
      " 'vyvanse' 'elavil' 'xanax' 'claritin' 'flagyl' 'dextroamphetamine'\n",
      " 'sarafem' 'latisse' 'aldara' 'effexor-xr' 'neurontin' 'omnicef'\n",
      " 'klonopin' 'dovonex' 'protopic' 'effexor' 'sotret' 'retin-a-micro'\n",
      " 'lamotrigine' 'rebif' 'symbicort' 'lamictal' 'doxycycline' 'actonel'\n",
      " 'provigil' 'ambien' 'wellbutrin' 'nortriptyline' 'imitrex' 'ativan'\n",
      " 'prozac' 'topamax' 'levitra' 'oxycodone' 'oxycontin' 'vicodin' 'accutane'\n",
      " 'zocor' 'minocycline' 'estrace' 'meridia' 'prevacid' 'cosopt' 'renova'\n",
      " 'depakote' 'tekturna' 'zegerid' 'sular' 'crestor' 'metformin' 'celexa'\n",
      " 'lexapro' 'naproxen' 'levoxyl' 'synthroid' 'spironolactone' 'oracea'\n",
      " 'paxil' 'zantac' 'fosamax' 'tirosint' 'cymbalta' 'ambien-cr' 'angeliq'\n",
      " 'prempro' 'wellbutrin-xl' 'biaxin' 'lipitor' 'tazorac' 'alendronate'\n",
      " 'claripel-cream' 'valtrex' 'femring' 'soma' 'tylenol' 'ultram' 'chantix'\n",
      " 'ziana' 'vivelle-dot' 'ultram-er' 'lotrel' 'viagra' 'seasonale'\n",
      " 'wellbutrin-sr' 'allegra' 'nasonex' 'fortaz' 'singulair' 'xyrem' 'zoloft'\n",
      " 'differin' 'zyban' 'anafranil' 'nuvaring' 'motrin' 'serzone' 'naprosyn'\n",
      " 'flomax' 'percocet' 'protonix' 'mirapex' 'dexamethasone' 'toradol'\n",
      " 'caduet' 'diazepam' 'celebrex' 'actiq' 'mobic' 'tegretol' 'zestoretic'\n",
      " 'malarone' 'zofran' 'lunesta' 'spiriva' 'enbrel' 'atarax' 'pilocarpine'\n",
      " 'retin-a' 'phenergan' 'glucophage' 'evista' 'lopressor' 'flexeril'\n",
      " 'seroquel-xr' 'abilify' 'augmentin' 'finacea' 'alprazolam' 'saizen'\n",
      " 'clonazepam' 'vivelle' 'keflex' 'tequin' 'zomig' 'vagifem' 'citalopram'\n",
      " 'benzaclin' 'aloprim' 'metrogel' 'zyprexa' 'methotrexate' 'lamisil'\n",
      " 'ultracet' 'lorazepam' 'relafen' 'valium' 'yasmin' 'tri-luma' 'provera'\n",
      " 'adipex-p' 'seroquel' 'xenical' 'baclofen' 'clindamycin-topical'\n",
      " 'depo-provera' 'metronidazole' 'dispermox' 'solodyn' 'suboxone' 'zmax'\n",
      " 'prinivil' 'paxil-cr' 'darvocet-n' 'ranitidine' 'amoxil' 'septra'\n",
      " 'tamiflu' 'risperdal' 'soltamox' 'levaquin' 'xyzal' 'cleocin' 'voltaren'\n",
      " 'tetracycline' 'zovirax' 'cipro' 'relpax' 'follistim' 'lortab' 'climara'\n",
      " 'requip' 'restasis' 'seasonique' 'remeron' 'macrobid' 'buprenorphine'\n",
      " 'fiorinal' 'trazodone' 'xalatan' 'cytomel' 'oxazepam' 'atenolol'\n",
      " 'premarin' 'norpramin' 'topicort' 'lumigan' 'fluconazole' 'zithromax'\n",
      " 'grifulvin-v' 'proscar' 'triphasil' 'maxalt' 'antivert' 'flonase'\n",
      " 'hyzaar' 'fexofenadine' 'ritalin-la' 'tambocor' 'clomid' 'prednisone'\n",
      " 'ventolin-hfa' 'armour-thyroid' 'sumatriptan' 'pentasa' 'clarithromycin'\n",
      " 'zyrtec' 'elidel' 'danazol' 'ditropan' 'tramadol' 'permapen'\n",
      " 'trimethobenzamide' 'nystatin' 'remicade' 'phendimetrazine' 'azopt'\n",
      " 'desyrel' 'niaspan' 'azelex' 'selegiline' 'norvasc' 'avita' 'sulindac'\n",
      " 'adderall' 'aricept' 'mirtazapine' 'dysport' 'cialis' 'tarka' 'lo-ovral'\n",
      " 'hydrochlorothiazide' 'avelox' 'concerta' 'ortho-evra' 'rhinocort'\n",
      " 'oxybutynin' 'fioricet' 'strattera' 'botox' 'albuterol' 'trimethoprim'\n",
      " 'keppra' 'baraclude' 'amitiza' 'eulexin' 'klaron' 'accupril' 'plavix'\n",
      " 'galzin' 'ritalin' 'lithium-carbonate' 'metoclopramide' 'avapro'\n",
      " 'ketorolac' 'innofem' 'axert' 'avage' 'betamethasone' 'aczone'\n",
      " 'compazine' 'nexium' 'advair-diskus' 'advair-hfa' 'reglan' 'micardis'\n",
      " 'clobetasol' 'hydrocortisone' 'clindamycin' 'geodon' 'catapres'\n",
      " 'premarin-vaginal' 'niacor' 'fosamax-plus-d' 'noroxin' 'hytrin' 'asacol'\n",
      " 'imodium' 'dilaudid' 'tobramycin' 'ecotrin' 'avodart' 'coumadin'\n",
      " 'ortho-tri-cyclen-lo' 'diclofenac' 'elocon' 'aromasin' 'acyclovir'\n",
      " 'estrasorb' 'zyrtec-d' 'tussionex' 'qvar' 'humira' 'proquin-xr'\n",
      " 'nolvadex' 'levora' 'plendil' 'halcion' 'sonata' 'aldactone' 'miralax'\n",
      " 'clarinex' 'minoxidil' 'evoclin' 'sulfasalazine' 'byetta'\n",
      " 'panixine-disperdose' 'vytorin' 'pristiq' 'doryx' 'buspar' 'mevacor'\n",
      " 'dextrostat' 'triaz' 'estratest' 'vaniqa' 'erythromycin' 'frova'\n",
      " 'tenormin' 'allegra-d' 'naltrexone' 'symbyax' 'ketoconazole' 'arava'\n",
      " 'actos' 'nuvigil' 'ampicillin' 'pravachol' 'isoniazid' 'mirena'\n",
      " 'xanax-xr' 'omnitrope' 'prometrium' 'cataflam' 'nitrofurantoin'\n",
      " 'copaxone' 'restoril' 'nasacort' 'aygestin' 'diovan' 'duac' 'efudex'\n",
      " 'prednisolone' 'cefzil' 'flovent' 'vasotec' 'warfarin' 'morphine'\n",
      " 'rifadin' 'lybrel' 'cozaar' 'oxycodone-and-acetaminophen' 'asmanex'\n",
      " 'inspra' 'carac' 'imuran' 'diflucan' 'vigamox' 'diltiazem' 'prograf'\n",
      " 'periostat' 'exelon' 'benicar' 'divigel' 'dostinex' 'aciphex'\n",
      " 'delestrogen' 'inderal' 'clobex' 'fluvoxamine' 'skelaxin' 'dexedrine'\n",
      " 'adderall-xr' 'polymyxin-b' 'benicar-hct' 'proloprim' 'accolate'\n",
      " 'cardura' 'progesterone' 'coreg' 'dapsone' 'cyproheptadine' 'methadone'\n",
      " 'lidex' 'penlac' 'hydrocodone-and-acetaminophen' 'propranolol'\n",
      " 'erythra-derm' 'bisoprolol' 'hyoscyamine' 'emsam' 'femhrt' 'benadryl'\n",
      " 'proair-hfa' 'kenalog' 'ribavirin' 'toprol-xl' 'locoid-lipocream'\n",
      " 'metoprolol' 'lotronex' 'fosinopril' 'elmiron' 'lasix' 'zovirax-topical'\n",
      " 'trental' 'triamcinolone' 'bactrim-ds' 'mercaptopurine' 'omacor'\n",
      " 'arimidex' 'ortho-novum' 'depakene' 'ceclor' 'azasan' 'quibron-t'\n",
      " 'corgard' 'femara' 'meperidine' 'betaseron' 'climara-pro' 'gonal-f-rff'\n",
      " 'atacand' 'arthrotec' 'levetiracetam' 'dilantin' 'periogard' 'androgel'\n",
      " 'levothroid' 'zyvox' 'prochlorperazine' 'lac-hydrin' 'vioxx'\n",
      " 'penicillin-v' 'lidocaine' 'haldol' 'temovate' 'detrol-la' 'metrolotion'\n",
      " 'aralen' 'boniva' 'neoprofen' 'bystolic' 'sanctura-xr' 'lupron'\n",
      " 'amphetamine' 'lodine' 'parlodel' 'minocin' 'bactroban' 'detrol'\n",
      " 'nizoral' 'nardil' 'atripla' 'azor' 'tapazole' 'estrostep-fe' 'pamelor'\n",
      " 'nizoral-shampoo' 'fentanyl' 'lantus' 'metformin-extended-release'\n",
      " 'pepcid' 'ziac' 'vicoprofen' 'deltasone' 'alesse' 'amerge' 'estring'\n",
      " 'duragesic' 'tofranil-pm' 'vesicare' 'nasarel' 'doxepin'\n",
      " 'medroxyprogesterone' 'trilipix' 'cardura-xl' 'baciim' 'enablex'\n",
      " 'dicyclomine' 'methimazole' 'vistaril' 'adcirca' 'desonide' 'nasacort-aq'\n",
      " 'glucophage-xr' 'risperdal-consta' 'trileptal']\n",
      "rating [ 4  1 10  3  2  9  7  8  6  5]\n",
      "effectiveness ['Highly Effective' 'Marginally Effective' 'Ineffective'\n",
      " 'Considerably Effective' 'Moderately Effective']\n",
      "condition ['management of congestive heart failure' 'birth prevention'\n",
      " 'menstrual cramps' ... 'hives, itching, swelling due to allergies'\n",
      " 'muscle relaxant - spinal disorder' 'total hysterctomy']\n",
      "sideEffects ['Mild Side Effects' 'Severe Side Effects' 'No Side Effects'\n",
      " 'Extremely Severe Side Effects' 'Moderate Side Effects']\n"
     ]
    }
   ],
   "source": [
    "print('DrugName',df['DrugName'].unique())\n",
    "print('rating',df['rating'].unique())\n",
    "print('effectiveness',df['effectiveness'].unique())\n",
    "print('condition',df['condition'].unique())\n",
    "print('sideEffects',df['sideEffects'].unique())"
   ]
  },
  {
   "cell_type": "code",
   "execution_count": 11,
   "id": "a1f44766",
   "metadata": {},
   "outputs": [
    {
     "name": "stdout",
     "output_type": "stream",
     "text": [
      "DrugName 502\n",
      "rating 10\n",
      "effectiveness 5\n",
      "condition 1426\n",
      "sideEffects 5\n"
     ]
    }
   ],
   "source": [
    "print('DrugName',df['DrugName'].nunique())\n",
    "print('rating',df['rating'].nunique())\n",
    "print('effectiveness',df['effectiveness'].nunique())\n",
    "print('condition',df['condition'].nunique())\n",
    "print('sideEffects',df['sideEffects'].nunique())"
   ]
  },
  {
   "cell_type": "code",
   "execution_count": 12,
   "id": "e08688b7",
   "metadata": {},
   "outputs": [
    {
     "data": {
      "text/plain": [
       "10    742\n",
       "8     558\n",
       "9     480\n",
       "7     350\n",
       "1     305\n",
       "5     159\n",
       "6     157\n",
       "3     146\n",
       "4     107\n",
       "2     103\n",
       "Name: rating, dtype: int64"
      ]
     },
     "execution_count": 12,
     "metadata": {},
     "output_type": "execute_result"
    }
   ],
   "source": [
    "df['rating'].value_counts()"
   ]
  },
  {
   "cell_type": "markdown",
   "id": "89f00736",
   "metadata": {},
   "source": [
    "There are ratings from 1-10"
   ]
  },
  {
   "cell_type": "markdown",
   "id": "50662656",
   "metadata": {},
   "source": [
    "# CLEANING , VISUALIZATION AND PREPROCESSING"
   ]
  },
  {
   "cell_type": "code",
   "execution_count": 13,
   "id": "5c2ab462",
   "metadata": {},
   "outputs": [
    {
     "data": {
      "text/plain": [
       "DrugName         0\n",
       "rating           0\n",
       "effectiveness    0\n",
       "condition        1\n",
       "sideEffects      0\n",
       "dtype: int64"
      ]
     },
     "execution_count": 13,
     "metadata": {},
     "output_type": "execute_result"
    }
   ],
   "source": [
    "df.isna().sum()"
   ]
  },
  {
   "cell_type": "markdown",
   "id": "024e98a2",
   "metadata": {},
   "source": [
    "There are only 1 missing value."
   ]
  },
  {
   "cell_type": "code",
   "execution_count": 14,
   "id": "779ce1d2",
   "metadata": {},
   "outputs": [],
   "source": [
    "df = df.dropna()"
   ]
  },
  {
   "cell_type": "code",
   "execution_count": 15,
   "id": "f48769bd",
   "metadata": {},
   "outputs": [
    {
     "data": {
      "text/plain": [
       "DrugName         0\n",
       "rating           0\n",
       "effectiveness    0\n",
       "condition        0\n",
       "sideEffects      0\n",
       "dtype: int64"
      ]
     },
     "execution_count": 15,
     "metadata": {},
     "output_type": "execute_result"
    }
   ],
   "source": [
    "df.isna().sum()"
   ]
  },
  {
   "cell_type": "markdown",
   "id": "676e37e1",
   "metadata": {},
   "source": [
    "Now the missing values are removed"
   ]
  },
  {
   "cell_type": "markdown",
   "id": "5b715121",
   "metadata": {},
   "source": [
    "also strip leading and trailing white spaces from string type data. These white spaces often conceal the fact that there is nothing useful in the data cell simply because white spaces are data as well."
   ]
  },
  {
   "cell_type": "code",
   "execution_count": 16,
   "id": "59d3d479",
   "metadata": {},
   "outputs": [],
   "source": [
    "for col in df.columns:\n",
    "    if df[col].dtype.kind == \"O\":\n",
    "        df[col] = df[col].str.strip()"
   ]
  },
  {
   "cell_type": "markdown",
   "id": "59963317",
   "metadata": {},
   "source": [
    "We have deleted the null values but there chance of having some missing values and blank spaces"
   ]
  },
  {
   "cell_type": "code",
   "execution_count": 17,
   "id": "d7188be8",
   "metadata": {},
   "outputs": [],
   "source": [
    "def missing_values(df):\n",
    "    \"\"\"Returns a summary of missing values in df\"\"\"\n",
    "    nrows = df.shape[0]\n",
    "    data = []\n",
    "    \n",
    "    def pct(n, total):\n",
    "        return round(n/total, 2)\n",
    "    \n",
    "    for col in df.columns:\n",
    "\n",
    "        # string (Object) type columns\n",
    "        if df[col].dtype.kind == \"O\":\n",
    "            df[col] = df[col].str.strip()\n",
    "            nulls = df[df[col] == \"\"][col].count()\n",
    "            nulls += df[col].isnull().sum()\n",
    "\n",
    "        # numerical (int) type columns\n",
    "        elif df[col].dtype.kind == \"i\":\n",
    "            nulls = df[col].isnull().sum()\n",
    "\n",
    "        pctofnulls = pct(nulls, nrows)\n",
    "        data.extend(\n",
    "            [{\"column\": col, \"pct\": 1-pctofnulls, \"num of records\": nrows-nulls, \"type\": \"not missing\"},\n",
    "             {\"column\": col, \"pct\": pctofnulls, \"num of records\": nulls, \"type\": \"missing\"}])\n",
    "    \n",
    "    return pd.DataFrame(data)\n",
    "\n",
    "missing = missing_values(df)"
   ]
  },
  {
   "cell_type": "code",
   "execution_count": 18,
   "id": "8bb5aed4",
   "metadata": {},
   "outputs": [
    {
     "data": {
      "text/html": [
       "\n",
       "<div id=\"altair-viz-afc75d8a3ff44990b287a435a3a1bd20\"></div>\n",
       "<script type=\"text/javascript\">\n",
       "  var VEGA_DEBUG = (typeof VEGA_DEBUG == \"undefined\") ? {} : VEGA_DEBUG;\n",
       "  (function(spec, embedOpt){\n",
       "    let outputDiv = document.currentScript.previousElementSibling;\n",
       "    if (outputDiv.id !== \"altair-viz-afc75d8a3ff44990b287a435a3a1bd20\") {\n",
       "      outputDiv = document.getElementById(\"altair-viz-afc75d8a3ff44990b287a435a3a1bd20\");\n",
       "    }\n",
       "    const paths = {\n",
       "      \"vega\": \"https://cdn.jsdelivr.net/npm//vega@5?noext\",\n",
       "      \"vega-lib\": \"https://cdn.jsdelivr.net/npm//vega-lib?noext\",\n",
       "      \"vega-lite\": \"https://cdn.jsdelivr.net/npm//vega-lite@4.17.0?noext\",\n",
       "      \"vega-embed\": \"https://cdn.jsdelivr.net/npm//vega-embed@6?noext\",\n",
       "    };\n",
       "\n",
       "    function maybeLoadScript(lib, version) {\n",
       "      var key = `${lib.replace(\"-\", \"\")}_version`;\n",
       "      return (VEGA_DEBUG[key] == version) ?\n",
       "        Promise.resolve(paths[lib]) :\n",
       "        new Promise(function(resolve, reject) {\n",
       "          var s = document.createElement('script');\n",
       "          document.getElementsByTagName(\"head\")[0].appendChild(s);\n",
       "          s.async = true;\n",
       "          s.onload = () => {\n",
       "            VEGA_DEBUG[key] = version;\n",
       "            return resolve(paths[lib]);\n",
       "          };\n",
       "          s.onerror = () => reject(`Error loading script: ${paths[lib]}`);\n",
       "          s.src = paths[lib];\n",
       "        });\n",
       "    }\n",
       "\n",
       "    function showError(err) {\n",
       "      outputDiv.innerHTML = `<div class=\"error\" style=\"color:red;\">${err}</div>`;\n",
       "      throw err;\n",
       "    }\n",
       "\n",
       "    function displayChart(vegaEmbed) {\n",
       "      vegaEmbed(outputDiv, spec, embedOpt)\n",
       "        .catch(err => showError(`Javascript Error: ${err.message}<br>This usually means there's a typo in your chart specification. See the javascript console for the full traceback.`));\n",
       "    }\n",
       "\n",
       "    if(typeof define === \"function\" && define.amd) {\n",
       "      requirejs.config({paths});\n",
       "      require([\"vega-embed\"], displayChart, err => showError(`Error loading script: ${err.message}`));\n",
       "    } else {\n",
       "      maybeLoadScript(\"vega\", \"5\")\n",
       "        .then(() => maybeLoadScript(\"vega-lite\", \"4.17.0\"))\n",
       "        .then(() => maybeLoadScript(\"vega-embed\", \"6\"))\n",
       "        .catch(showError)\n",
       "        .then(() => displayChart(vegaEmbed));\n",
       "    }\n",
       "  })({\"config\": {\"view\": {\"continuousWidth\": 400, \"continuousHeight\": 300, \"strokeWidth\": 0}, \"axis\": {\"grid\": false, \"gridOpacity\": 0.15, \"labelColor\": \"white\", \"labelFontSize\": 11, \"labelOpacity\": 0.7, \"tickOffset\": 0, \"titleColor\": \"white\", \"titleFontSize\": 13, \"titleOpacity\": 0.8, \"titlePadding\": 20}, \"background\": \"#11043a\", \"legend\": {\"labelColor\": \"white\", \"labelOpacity\": 0.7, \"tickCount\": 10, \"titleColor\": \"white\", \"titleFontSize\": 12, \"titleOpacity\": 0.8, \"titlePadding\": 10}, \"text\": {\"color\": \"white\"}, \"title\": {\"color\": \"#e6f3ff\", \"dy\": -10, \"font\": \"Arial\", \"fontSize\": 18}}, \"layer\": [{\"mark\": {\"type\": \"bar\", \"size\": 25, \"stroke\": \"white\", \"strokeOpacity\": 0.7, \"strokeWidth\": 1}, \"encoding\": {\"color\": {\"field\": \"type\", \"scale\": {\"range\": [\"#11043a\", \"#648bce\"]}, \"type\": \"nominal\"}, \"tooltip\": [{\"field\": \"column\", \"type\": \"nominal\"}, {\"field\": \"type\", \"type\": \"nominal\"}, {\"field\": \"num of records\", \"type\": \"quantitative\"}, {\"field\": \"pct\", \"format\": \".1%\", \"type\": \"quantitative\"}], \"x\": {\"aggregate\": \"sum\", \"axis\": {\"grid\": true, \"title\": \"number of records\"}, \"field\": \"num of records\", \"type\": \"quantitative\"}, \"y\": {\"axis\": {\"title\": \"columns\"}, \"field\": \"column\", \"type\": \"ordinal\"}}, \"title\": \"Missing Values\"}, {\"mark\": {\"type\": \"text\", \"align\": \"right\", \"dx\": -1}, \"encoding\": {\"color\": {\"field\": \"type\", \"legend\": null, \"scale\": {\"range\": [\"white\"]}, \"type\": \"nominal\"}, \"text\": {\"field\": \"pct\", \"format\": \".0%\", \"type\": \"quantitative\"}, \"x\": {\"aggregate\": \"sum\", \"field\": \"num of records\", \"stack\": \"zero\", \"type\": \"quantitative\"}, \"y\": {\"field\": \"column\", \"type\": \"nominal\"}}}], \"data\": {\"name\": \"data-6f2d7f710a19b8e3c369908e0d5231ec\"}, \"height\": 300, \"resolve\": {\"scale\": {\"color\": \"independent\"}}, \"width\": 680, \"$schema\": \"https://vega.github.io/schema/vega-lite/v4.17.0.json\", \"datasets\": {\"data-6f2d7f710a19b8e3c369908e0d5231ec\": [{\"column\": \"DrugName\", \"pct\": 1.0, \"num of records\": 3106, \"type\": \"not missing\"}, {\"column\": \"DrugName\", \"pct\": 0.0, \"num of records\": 0, \"type\": \"missing\"}, {\"column\": \"rating\", \"pct\": 1.0, \"num of records\": 3106, \"type\": \"not missing\"}, {\"column\": \"rating\", \"pct\": 0.0, \"num of records\": 0, \"type\": \"missing\"}, {\"column\": \"effectiveness\", \"pct\": 1.0, \"num of records\": 3106, \"type\": \"not missing\"}, {\"column\": \"effectiveness\", \"pct\": 0.0, \"num of records\": 0, \"type\": \"missing\"}, {\"column\": \"condition\", \"pct\": 1.0, \"num of records\": 3106, \"type\": \"not missing\"}, {\"column\": \"condition\", \"pct\": 0.0, \"num of records\": 0, \"type\": \"missing\"}, {\"column\": \"sideEffects\", \"pct\": 1.0, \"num of records\": 3106, \"type\": \"not missing\"}, {\"column\": \"sideEffects\", \"pct\": 0.0, \"num of records\": 0, \"type\": \"missing\"}]}}, {\"mode\": \"vega-lite\"});\n",
       "</script>"
      ],
      "text/plain": [
       "alt.LayerChart(...)"
      ]
     },
     "execution_count": 18,
     "metadata": {},
     "output_type": "execute_result"
    }
   ],
   "source": [
    "import altair as alt\n",
    "\n",
    "bars = (alt.Chart()\n",
    "           .mark_bar(size=25, \n",
    "                     strokeWidth=1,\n",
    "                     stroke=\"white\",\n",
    "                     strokeOpacity=0.7,\n",
    "                     )\n",
    "           .encode(x=alt.X(\"sum(num of records)\",\n",
    "                           axis=alt.Axis(title=\"number of records\",\n",
    "                                         grid=True)), \n",
    "                   y=alt.Y(\"column:O\",\n",
    "                           axis=alt.Axis(title=\"columns\")),\n",
    "                   tooltip=(\"column\", \"type\", \"num of records:Q\",\n",
    "                            alt.Tooltip(\"pct:Q\", format=\".1%\")),\n",
    "                   color=alt.Color(\"type\",\n",
    "                                   scale=alt.Scale(range=[\"#11043a\", \"#648bce\"])))\n",
    "           .properties(title=\"Missing Values\"))\n",
    "\n",
    "text = (alt.Chart()\n",
    "           .mark_text(align=\"right\",\n",
    "                      dx=-1)\n",
    "           .encode(x=alt.X(\"sum(num of records)\", \n",
    "                           stack=\"zero\"),\n",
    "                   y=alt.Y(\"column\"),\n",
    "                   color=alt.Color(\"type\",\n",
    "                                   legend=None,\n",
    "                                   scale=alt.Scale(range=[\"white\"])),\n",
    "                   text=alt.Text(\"pct\", format=\".0%\")))\n",
    "\n",
    "(alt.layer(bars, text, data=missing)\n",
    "    .configure(background='#11043a')\n",
    "    .configure_title(font=\"Arial\",\n",
    "                     fontSize=18,\n",
    "                     color=\"#e6f3ff\",\n",
    "                     dy=-10)\n",
    "    .configure_text(color=\"white\")\n",
    "    .configure_legend(titleFontSize=12,\n",
    "                      titleColor=\"white\",\n",
    "                      tickCount=10,\n",
    "                      titleOpacity=0.8,\n",
    "                      labelColor=\"white\",\n",
    "                      labelOpacity=0.7,\n",
    "                      titlePadding=10)\n",
    "    .configure_axis(titleFontSize=13,\n",
    "                    titlePadding=20,\n",
    "                    titleColor=\"white\",\n",
    "                    titleOpacity=0.8,\n",
    "                    labelFontSize=11,\n",
    "                    labelColor=\"white\",\n",
    "                    labelOpacity=0.7,\n",
    "                    tickOffset=0,\n",
    "                    grid=False,\n",
    "                    gridOpacity=0.15)\n",
    "    .configure_view(strokeWidth=0)\n",
    "    .resolve_scale(color='independent')\n",
    "    .properties(height=300, width=680))"
   ]
  },
  {
   "cell_type": "markdown",
   "id": "f914e31c",
   "metadata": {},
   "source": [
    "There are no missing values."
   ]
  },
  {
   "cell_type": "markdown",
   "id": "deb0dec6",
   "metadata": {},
   "source": [
    "# Visualization"
   ]
  },
  {
   "cell_type": "code",
   "execution_count": 19,
   "id": "9d9473ec",
   "metadata": {},
   "outputs": [
    {
     "data": {
      "image/png": "[encoded data removed]",
      "text/plain": [
       "<Figure size 1440x720 with 1 Axes>"
      ]
     },
     "metadata": {
      "needs_background": "light"
     },
     "output_type": "display_data"
    }
   ],
   "source": [
    "plt.subplots(figsize=(20,10))\n",
    "df['DrugName'].value_counts().head(15).plot(kind='bar',color='black')\n",
    "plt.title('THE MOST USED DRUGS')\n",
    "plt.show()"
   ]
  },
  {
   "cell_type": "markdown",
   "id": "7489bd28",
   "metadata": {},
   "source": [
    "Lexapro is the most used drug."
   ]
  },
  {
   "cell_type": "code",
   "execution_count": 20,
   "id": "c422f07c",
   "metadata": {},
   "outputs": [
    {
     "data": {
      "image/png": "[encoded data removed]",
      "text/plain": [
       "<Figure size 432x288 with 1 Axes>"
      ]
     },
     "metadata": {
      "needs_background": "light"
     },
     "output_type": "display_data"
    }
   ],
   "source": [
    "df['effectiveness'].value_counts().plot(kind='bar',color = 'red')\n",
    "plt.xlabel('effectiveness')\n",
    "plt.ylabel('Count')\n",
    "plt.title('COUNTS OF EFFECTIVENESS')\n",
    "plt.show()"
   ]
  },
  {
   "cell_type": "markdown",
   "id": "d187e63a",
   "metadata": {},
   "source": [
    "Most drugs are highly effective."
   ]
  },
  {
   "cell_type": "code",
   "execution_count": 21,
   "id": "d136fd19",
   "metadata": {},
   "outputs": [
    {
     "data": {
      "text/plain": [
       "Index(['DrugName', 'rating', 'effectiveness', 'condition', 'sideEffects'], dtype='object')"
      ]
     },
     "execution_count": 21,
     "metadata": {},
     "output_type": "execute_result"
    }
   ],
   "source": [
    "df.columns"
   ]
  },
  {
   "cell_type": "code",
   "execution_count": 22,
   "id": "49c96673",
   "metadata": {},
   "outputs": [
    {
     "data": {
      "text/plain": [
       "depression                                           236\n",
       "acne                                                 165\n",
       "anxiety                                               63\n",
       "insomnia                                              54\n",
       "birth control                                         49\n",
       "                                                    ... \n",
       "stomach ulcer                                          1\n",
       "hip flexor & back pain                                 1\n",
       "facial acne                                            1\n",
       "epilpsy                                                1\n",
       "hyperpigmentation, photoaging, mild hormonal acne      1\n",
       "Name: condition, Length: 1426, dtype: int64"
      ]
     },
     "execution_count": 22,
     "metadata": {},
     "output_type": "execute_result"
    }
   ],
   "source": [
    "df['condition'].value_counts()"
   ]
  },
  {
   "cell_type": "code",
   "execution_count": 23,
   "id": "f4af7d25",
   "metadata": {},
   "outputs": [
    {
     "data": {
      "image/png": "[encoded data removed]",
      "text/plain": [
       "<Figure size 432x288 with 1 Axes>"
      ]
     },
     "metadata": {
      "needs_background": "light"
     },
     "output_type": "display_data"
    }
   ],
   "source": [
    "df['condition'].value_counts().head(10).plot(kind='bar')\n",
    "plt.xlabel('Condition')\n",
    "plt.ylabel('Count')\n",
    "plt.title('DIFFERENT TYPES OF CONDITIONS')\n",
    "plt.show()"
   ]
  },
  {
   "cell_type": "markdown",
   "id": "7f9f2d64",
   "metadata": {},
   "source": [
    "Most of the patients use drugs for Depression."
   ]
  },
  {
   "cell_type": "code",
   "execution_count": 24,
   "id": "7c63236e",
   "metadata": {},
   "outputs": [
    {
     "data": {
      "image/png": "[encoded data removed]",
      "text/plain": [
       "<Figure size 432x288 with 1 Axes>"
      ]
     },
     "metadata": {},
     "output_type": "display_data"
    }
   ],
   "source": [
    "df['sideEffects'].value_counts().plot(kind='pie')\n",
    "plt.title('DIFFERENT KINDS OF SIDEEFFECTS')\n",
    "plt.show()"
   ]
  },
  {
   "cell_type": "markdown",
   "id": "7a1fee6d",
   "metadata": {},
   "source": [
    "# Spitting the dataset"
   ]
  },
  {
   "cell_type": "code",
   "execution_count": 25,
   "id": "03ce915a",
   "metadata": {},
   "outputs": [],
   "source": [
    "x = df.drop(['sideEffects'],axis=1)"
   ]
  },
  {
   "cell_type": "code",
   "execution_count": 26,
   "id": "a16e3887",
   "metadata": {},
   "outputs": [],
   "source": [
    "y = df['sideEffects']"
   ]
  },
  {
   "cell_type": "markdown",
   "id": "ec7cb323",
   "metadata": {},
   "source": [
    "# Encoding"
   ]
  },
  {
   "cell_type": "code",
   "execution_count": 27,
   "id": "73619ee5",
   "metadata": {},
   "outputs": [
    {
     "data": {
      "text/html": [
       "<div>\n",
       "<style scoped>\n",
       "    .dataframe tbody tr th:only-of-type {\n",
       "        vertical-align: middle;\n",
       "    }\n",
       "\n",
       "    .dataframe tbody tr th {\n",
       "        vertical-align: top;\n",
       "    }\n",
       "\n",
       "    .dataframe thead th {\n",
       "        text-align: right;\n",
       "    }\n",
       "</style>\n",
       "<table border=\"1\" class=\"dataframe\">\n",
       "  <thead>\n",
       "    <tr style=\"text-align: right;\">\n",
       "      <th></th>\n",
       "      <th>DrugName</th>\n",
       "      <th>rating</th>\n",
       "      <th>effectiveness</th>\n",
       "      <th>condition</th>\n",
       "    </tr>\n",
       "  </thead>\n",
       "  <tbody>\n",
       "    <tr>\n",
       "      <th>0</th>\n",
       "      <td>enalapril</td>\n",
       "      <td>4</td>\n",
       "      <td>Highly Effective</td>\n",
       "      <td>management of congestive heart failure</td>\n",
       "    </tr>\n",
       "    <tr>\n",
       "      <th>1</th>\n",
       "      <td>ortho-tri-cyclen</td>\n",
       "      <td>1</td>\n",
       "      <td>Highly Effective</td>\n",
       "      <td>birth prevention</td>\n",
       "    </tr>\n",
       "    <tr>\n",
       "      <th>2</th>\n",
       "      <td>ponstel</td>\n",
       "      <td>10</td>\n",
       "      <td>Highly Effective</td>\n",
       "      <td>menstrual cramps</td>\n",
       "    </tr>\n",
       "    <tr>\n",
       "      <th>3</th>\n",
       "      <td>prilosec</td>\n",
       "      <td>3</td>\n",
       "      <td>Marginally Effective</td>\n",
       "      <td>acid reflux</td>\n",
       "    </tr>\n",
       "    <tr>\n",
       "      <th>4</th>\n",
       "      <td>lyrica</td>\n",
       "      <td>2</td>\n",
       "      <td>Marginally Effective</td>\n",
       "      <td>fibromyalgia</td>\n",
       "    </tr>\n",
       "  </tbody>\n",
       "</table>\n",
       "</div>"
      ],
      "text/plain": [
       "           DrugName  rating         effectiveness  \\\n",
       "0         enalapril       4      Highly Effective   \n",
       "1  ortho-tri-cyclen       1      Highly Effective   \n",
       "2           ponstel      10      Highly Effective   \n",
       "3          prilosec       3  Marginally Effective   \n",
       "4            lyrica       2  Marginally Effective   \n",
       "\n",
       "                                condition  \n",
       "0  management of congestive heart failure  \n",
       "1                        birth prevention  \n",
       "2                        menstrual cramps  \n",
       "3                             acid reflux  \n",
       "4                            fibromyalgia  "
      ]
     },
     "execution_count": 27,
     "metadata": {},
     "output_type": "execute_result"
    }
   ],
   "source": [
    "x.head()"
   ]
  },
  {
   "cell_type": "markdown",
   "id": "e6fdff8e",
   "metadata": {},
   "source": [
    "categorical values need to convert into numeric values"
   ]
  },
  {
   "cell_type": "code",
   "execution_count": 28,
   "id": "d9e5f282",
   "metadata": {},
   "outputs": [],
   "source": [
    "from sklearn.preprocessing import LabelEncoder\n",
    "label_en=LabelEncoder()\n",
    "h=['DrugName','effectiveness','condition']\n",
    "for i in np.arange(len(h)):\n",
    "    x[h[i]] = label_en.fit_transform(x[h[i]]) "
   ]
  },
  {
   "cell_type": "code",
   "execution_count": 29,
   "id": "008a69f5",
   "metadata": {},
   "outputs": [
    {
     "data": {
      "text/html": [
       "<div>\n",
       "<style scoped>\n",
       "    .dataframe tbody tr th:only-of-type {\n",
       "        vertical-align: middle;\n",
       "    }\n",
       "\n",
       "    .dataframe tbody tr th {\n",
       "        vertical-align: top;\n",
       "    }\n",
       "\n",
       "    .dataframe thead th {\n",
       "        text-align: right;\n",
       "    }\n",
       "</style>\n",
       "<table border=\"1\" class=\"dataframe\">\n",
       "  <thead>\n",
       "    <tr style=\"text-align: right;\">\n",
       "      <th></th>\n",
       "      <th>DrugName</th>\n",
       "      <th>rating</th>\n",
       "      <th>effectiveness</th>\n",
       "      <th>condition</th>\n",
       "    </tr>\n",
       "  </thead>\n",
       "  <tbody>\n",
       "    <tr>\n",
       "      <th>0</th>\n",
       "      <td>166</td>\n",
       "      <td>4</td>\n",
       "      <td>1</td>\n",
       "      <td>797</td>\n",
       "    </tr>\n",
       "    <tr>\n",
       "      <th>1</th>\n",
       "      <td>319</td>\n",
       "      <td>1</td>\n",
       "      <td>1</td>\n",
       "      <td>224</td>\n",
       "    </tr>\n",
       "    <tr>\n",
       "      <th>2</th>\n",
       "      <td>345</td>\n",
       "      <td>10</td>\n",
       "      <td>1</td>\n",
       "      <td>819</td>\n",
       "    </tr>\n",
       "    <tr>\n",
       "      <th>3</th>\n",
       "      <td>353</td>\n",
       "      <td>3</td>\n",
       "      <td>3</td>\n",
       "      <td>11</td>\n",
       "    </tr>\n",
       "    <tr>\n",
       "      <th>4</th>\n",
       "      <td>259</td>\n",
       "      <td>2</td>\n",
       "      <td>3</td>\n",
       "      <td>492</td>\n",
       "    </tr>\n",
       "  </tbody>\n",
       "</table>\n",
       "</div>"
      ],
      "text/plain": [
       "   DrugName  rating  effectiveness  condition\n",
       "0       166       4              1        797\n",
       "1       319       1              1        224\n",
       "2       345      10              1        819\n",
       "3       353       3              3         11\n",
       "4       259       2              3        492"
      ]
     },
     "execution_count": 29,
     "metadata": {},
     "output_type": "execute_result"
    }
   ],
   "source": [
    "x.head()"
   ]
  },
  {
   "cell_type": "code",
   "execution_count": 30,
   "id": "67941b1a",
   "metadata": {},
   "outputs": [
    {
     "name": "stdout",
     "output_type": "stream",
     "text": [
      "<class 'pandas.core.frame.DataFrame'>\n",
      "Int64Index: 3106 entries, 0 to 3106\n",
      "Data columns (total 4 columns):\n",
      " #   Column         Non-Null Count  Dtype\n",
      "---  ------         --------------  -----\n",
      " 0   DrugName       3106 non-null   int32\n",
      " 1   rating         3106 non-null   int64\n",
      " 2   effectiveness  3106 non-null   int32\n",
      " 3   condition      3106 non-null   int32\n",
      "dtypes: int32(3), int64(1)\n",
      "memory usage: 84.9 KB\n"
     ]
    }
   ],
   "source": [
    "x.info()"
   ]
  },
  {
   "cell_type": "code",
   "execution_count": 31,
   "id": "0c9cb057",
   "metadata": {},
   "outputs": [
    {
     "data": {
      "text/html": [
       "<div>\n",
       "<style scoped>\n",
       "    .dataframe tbody tr th:only-of-type {\n",
       "        vertical-align: middle;\n",
       "    }\n",
       "\n",
       "    .dataframe tbody tr th {\n",
       "        vertical-align: top;\n",
       "    }\n",
       "\n",
       "    .dataframe thead th {\n",
       "        text-align: right;\n",
       "    }\n",
       "</style>\n",
       "<table border=\"1\" class=\"dataframe\">\n",
       "  <thead>\n",
       "    <tr style=\"text-align: right;\">\n",
       "      <th></th>\n",
       "      <th>DrugName</th>\n",
       "      <th>rating</th>\n",
       "      <th>effectiveness</th>\n",
       "      <th>condition</th>\n",
       "    </tr>\n",
       "  </thead>\n",
       "  <tbody>\n",
       "    <tr>\n",
       "      <th>count</th>\n",
       "      <td>3106.000000</td>\n",
       "      <td>3106.000000</td>\n",
       "      <td>3106.000000</td>\n",
       "      <td>3106.000000</td>\n",
       "    </tr>\n",
       "    <tr>\n",
       "      <th>mean</th>\n",
       "      <td>269.499356</td>\n",
       "      <td>7.007727</td>\n",
       "      <td>1.301674</td>\n",
       "      <td>608.555055</td>\n",
       "    </tr>\n",
       "    <tr>\n",
       "      <th>std</th>\n",
       "      <td>147.264483</td>\n",
       "      <td>2.936681</td>\n",
       "      <td>1.315623</td>\n",
       "      <td>424.289999</td>\n",
       "    </tr>\n",
       "    <tr>\n",
       "      <th>min</th>\n",
       "      <td>0.000000</td>\n",
       "      <td>1.000000</td>\n",
       "      <td>0.000000</td>\n",
       "      <td>0.000000</td>\n",
       "    </tr>\n",
       "    <tr>\n",
       "      <th>25%</th>\n",
       "      <td>147.000000</td>\n",
       "      <td>5.000000</td>\n",
       "      <td>0.000000</td>\n",
       "      <td>236.000000</td>\n",
       "    </tr>\n",
       "    <tr>\n",
       "      <th>50%</th>\n",
       "      <td>280.000000</td>\n",
       "      <td>8.000000</td>\n",
       "      <td>1.000000</td>\n",
       "      <td>561.000000</td>\n",
       "    </tr>\n",
       "    <tr>\n",
       "      <th>75%</th>\n",
       "      <td>391.000000</td>\n",
       "      <td>9.000000</td>\n",
       "      <td>2.000000</td>\n",
       "      <td>951.000000</td>\n",
       "    </tr>\n",
       "    <tr>\n",
       "      <th>max</th>\n",
       "      <td>501.000000</td>\n",
       "      <td>10.000000</td>\n",
       "      <td>4.000000</td>\n",
       "      <td>1425.000000</td>\n",
       "    </tr>\n",
       "  </tbody>\n",
       "</table>\n",
       "</div>"
      ],
      "text/plain": [
       "          DrugName       rating  effectiveness    condition\n",
       "count  3106.000000  3106.000000    3106.000000  3106.000000\n",
       "mean    269.499356     7.007727       1.301674   608.555055\n",
       "std     147.264483     2.936681       1.315623   424.289999\n",
       "min       0.000000     1.000000       0.000000     0.000000\n",
       "25%     147.000000     5.000000       0.000000   236.000000\n",
       "50%     280.000000     8.000000       1.000000   561.000000\n",
       "75%     391.000000     9.000000       2.000000   951.000000\n",
       "max     501.000000    10.000000       4.000000  1425.000000"
      ]
     },
     "execution_count": 31,
     "metadata": {},
     "output_type": "execute_result"
    }
   ],
   "source": [
    "x.describe()"
   ]
  },
  {
   "cell_type": "code",
   "execution_count": 32,
   "id": "c470d7da",
   "metadata": {},
   "outputs": [],
   "source": [
    "from sklearn.preprocessing import LabelEncoder\n",
    "label_en=LabelEncoder()\n",
    "y = label_en.fit_transform(y)"
   ]
  },
  {
   "cell_type": "code",
   "execution_count": 33,
   "id": "4a21a2ec",
   "metadata": {},
   "outputs": [
    {
     "data": {
      "text/plain": [
       "array([1, 4, 3, ..., 2, 1, 2])"
      ]
     },
     "execution_count": 33,
     "metadata": {},
     "output_type": "execute_result"
    }
   ],
   "source": [
    "y"
   ]
  },
  {
   "cell_type": "markdown",
   "id": "28571fb4",
   "metadata": {},
   "source": [
    "# Scaling"
   ]
  },
  {
   "cell_type": "code",
   "execution_count": 34,
   "id": "7e90b7af",
   "metadata": {},
   "outputs": [
    {
     "name": "stdout",
     "output_type": "stream",
     "text": [
      "<class 'pandas.core.frame.DataFrame'>\n",
      "Int64Index: 3106 entries, 0 to 3106\n",
      "Data columns (total 4 columns):\n",
      " #   Column         Non-Null Count  Dtype\n",
      "---  ------         --------------  -----\n",
      " 0   DrugName       3106 non-null   int32\n",
      " 1   rating         3106 non-null   int64\n",
      " 2   effectiveness  3106 non-null   int32\n",
      " 3   condition      3106 non-null   int32\n",
      "dtypes: int32(3), int64(1)\n",
      "memory usage: 84.9 KB\n"
     ]
    }
   ],
   "source": [
    "x.info()"
   ]
  },
  {
   "cell_type": "code",
   "execution_count": 35,
   "id": "b4daccc1",
   "metadata": {},
   "outputs": [],
   "source": [
    "from sklearn import preprocessing \n",
    "min_max = preprocessing.MinMaxScaler()\n",
    "x = min_max.fit_transform(x)"
   ]
  },
  {
   "cell_type": "code",
   "execution_count": 36,
   "id": "5542c01e",
   "metadata": {},
   "outputs": [],
   "source": [
    "x = pd.DataFrame(x, columns = ['DrugName','rating','effectiveness','condition'])"
   ]
  },
  {
   "cell_type": "code",
   "execution_count": 37,
   "id": "9f50946e",
   "metadata": {},
   "outputs": [
    {
     "data": {
      "text/html": [
       "<div>\n",
       "<style scoped>\n",
       "    .dataframe tbody tr th:only-of-type {\n",
       "        vertical-align: middle;\n",
       "    }\n",
       "\n",
       "    .dataframe tbody tr th {\n",
       "        vertical-align: top;\n",
       "    }\n",
       "\n",
       "    .dataframe thead th {\n",
       "        text-align: right;\n",
       "    }\n",
       "</style>\n",
       "<table border=\"1\" class=\"dataframe\">\n",
       "  <thead>\n",
       "    <tr style=\"text-align: right;\">\n",
       "      <th></th>\n",
       "      <th>DrugName</th>\n",
       "      <th>rating</th>\n",
       "      <th>effectiveness</th>\n",
       "      <th>condition</th>\n",
       "    </tr>\n",
       "  </thead>\n",
       "  <tbody>\n",
       "    <tr>\n",
       "      <th>0</th>\n",
       "      <td>0.331337</td>\n",
       "      <td>0.333333</td>\n",
       "      <td>0.25</td>\n",
       "      <td>0.559298</td>\n",
       "    </tr>\n",
       "    <tr>\n",
       "      <th>1</th>\n",
       "      <td>0.636727</td>\n",
       "      <td>0.000000</td>\n",
       "      <td>0.25</td>\n",
       "      <td>0.157193</td>\n",
       "    </tr>\n",
       "    <tr>\n",
       "      <th>2</th>\n",
       "      <td>0.688623</td>\n",
       "      <td>1.000000</td>\n",
       "      <td>0.25</td>\n",
       "      <td>0.574737</td>\n",
       "    </tr>\n",
       "    <tr>\n",
       "      <th>3</th>\n",
       "      <td>0.704591</td>\n",
       "      <td>0.222222</td>\n",
       "      <td>0.75</td>\n",
       "      <td>0.007719</td>\n",
       "    </tr>\n",
       "    <tr>\n",
       "      <th>4</th>\n",
       "      <td>0.516966</td>\n",
       "      <td>0.111111</td>\n",
       "      <td>0.75</td>\n",
       "      <td>0.345263</td>\n",
       "    </tr>\n",
       "  </tbody>\n",
       "</table>\n",
       "</div>"
      ],
      "text/plain": [
       "   DrugName    rating  effectiveness  condition\n",
       "0  0.331337  0.333333           0.25   0.559298\n",
       "1  0.636727  0.000000           0.25   0.157193\n",
       "2  0.688623  1.000000           0.25   0.574737\n",
       "3  0.704591  0.222222           0.75   0.007719\n",
       "4  0.516966  0.111111           0.75   0.345263"
      ]
     },
     "execution_count": 37,
     "metadata": {},
     "output_type": "execute_result"
    }
   ],
   "source": [
    "x.head()"
   ]
  },
  {
   "cell_type": "code",
   "execution_count": 38,
   "id": "23340a56",
   "metadata": {},
   "outputs": [
    {
     "data": {
      "text/html": [
       "<div>\n",
       "<style scoped>\n",
       "    .dataframe tbody tr th:only-of-type {\n",
       "        vertical-align: middle;\n",
       "    }\n",
       "\n",
       "    .dataframe tbody tr th {\n",
       "        vertical-align: top;\n",
       "    }\n",
       "\n",
       "    .dataframe thead th {\n",
       "        text-align: right;\n",
       "    }\n",
       "</style>\n",
       "<table border=\"1\" class=\"dataframe\">\n",
       "  <thead>\n",
       "    <tr style=\"text-align: right;\">\n",
       "      <th></th>\n",
       "      <th>DrugName</th>\n",
       "      <th>rating</th>\n",
       "      <th>effectiveness</th>\n",
       "      <th>condition</th>\n",
       "    </tr>\n",
       "  </thead>\n",
       "  <tbody>\n",
       "    <tr>\n",
       "      <th>count</th>\n",
       "      <td>3106.000000</td>\n",
       "      <td>3106.000000</td>\n",
       "      <td>3106.000000</td>\n",
       "      <td>3106.000000</td>\n",
       "    </tr>\n",
       "    <tr>\n",
       "      <th>mean</th>\n",
       "      <td>0.537923</td>\n",
       "      <td>0.667525</td>\n",
       "      <td>0.325419</td>\n",
       "      <td>0.427056</td>\n",
       "    </tr>\n",
       "    <tr>\n",
       "      <th>std</th>\n",
       "      <td>0.293941</td>\n",
       "      <td>0.326298</td>\n",
       "      <td>0.328906</td>\n",
       "      <td>0.297747</td>\n",
       "    </tr>\n",
       "    <tr>\n",
       "      <th>min</th>\n",
       "      <td>0.000000</td>\n",
       "      <td>0.000000</td>\n",
       "      <td>0.000000</td>\n",
       "      <td>0.000000</td>\n",
       "    </tr>\n",
       "    <tr>\n",
       "      <th>25%</th>\n",
       "      <td>0.293413</td>\n",
       "      <td>0.444444</td>\n",
       "      <td>0.000000</td>\n",
       "      <td>0.165614</td>\n",
       "    </tr>\n",
       "    <tr>\n",
       "      <th>50%</th>\n",
       "      <td>0.558882</td>\n",
       "      <td>0.777778</td>\n",
       "      <td>0.250000</td>\n",
       "      <td>0.393684</td>\n",
       "    </tr>\n",
       "    <tr>\n",
       "      <th>75%</th>\n",
       "      <td>0.780439</td>\n",
       "      <td>0.888889</td>\n",
       "      <td>0.500000</td>\n",
       "      <td>0.667368</td>\n",
       "    </tr>\n",
       "    <tr>\n",
       "      <th>max</th>\n",
       "      <td>1.000000</td>\n",
       "      <td>1.000000</td>\n",
       "      <td>1.000000</td>\n",
       "      <td>1.000000</td>\n",
       "    </tr>\n",
       "  </tbody>\n",
       "</table>\n",
       "</div>"
      ],
      "text/plain": [
       "          DrugName       rating  effectiveness    condition\n",
       "count  3106.000000  3106.000000    3106.000000  3106.000000\n",
       "mean      0.537923     0.667525       0.325419     0.427056\n",
       "std       0.293941     0.326298       0.328906     0.297747\n",
       "min       0.000000     0.000000       0.000000     0.000000\n",
       "25%       0.293413     0.444444       0.000000     0.165614\n",
       "50%       0.558882     0.777778       0.250000     0.393684\n",
       "75%       0.780439     0.888889       0.500000     0.667368\n",
       "max       1.000000     1.000000       1.000000     1.000000"
      ]
     },
     "execution_count": 38,
     "metadata": {},
     "output_type": "execute_result"
    }
   ],
   "source": [
    "x.describe()"
   ]
  },
  {
   "cell_type": "markdown",
   "id": "9c133518",
   "metadata": {},
   "source": [
    "# Modeling"
   ]
  },
  {
   "cell_type": "markdown",
   "id": "36a54898",
   "metadata": {},
   "source": [
    "# Splitting dataset into training and test sets"
   ]
  },
  {
   "cell_type": "code",
   "execution_count": 39,
   "id": "55bcba6d",
   "metadata": {},
   "outputs": [],
   "source": [
    "from sklearn.model_selection import train_test_split\n",
    "X_train, X_test, y_train, y_test = train_test_split(x, y, test_size = 0.25, random_state =0 ) "
   ]
  },
  {
   "cell_type": "code",
   "execution_count": 40,
   "id": "a5c8f9ed",
   "metadata": {},
   "outputs": [
    {
     "data": {
      "text/plain": [
       "(2329, 4)"
      ]
     },
     "execution_count": 40,
     "metadata": {},
     "output_type": "execute_result"
    }
   ],
   "source": [
    "X_train.shape"
   ]
  },
  {
   "cell_type": "code",
   "execution_count": 41,
   "id": "eeb4f8cd",
   "metadata": {},
   "outputs": [
    {
     "data": {
      "text/plain": [
       "(777, 4)"
      ]
     },
     "execution_count": 41,
     "metadata": {},
     "output_type": "execute_result"
    }
   ],
   "source": [
    "X_test.shape"
   ]
  },
  {
   "cell_type": "code",
   "execution_count": 42,
   "id": "3797a511",
   "metadata": {},
   "outputs": [
    {
     "data": {
      "text/plain": [
       "(2329,)"
      ]
     },
     "execution_count": 42,
     "metadata": {},
     "output_type": "execute_result"
    }
   ],
   "source": [
    "y_train.shape"
   ]
  },
  {
   "cell_type": "code",
   "execution_count": 43,
   "id": "e7999cf8",
   "metadata": {},
   "outputs": [
    {
     "data": {
      "text/plain": [
       "(777,)"
      ]
     },
     "execution_count": 43,
     "metadata": {},
     "output_type": "execute_result"
    }
   ],
   "source": [
    "y_test.shape"
   ]
  },
  {
   "cell_type": "markdown",
   "id": "54cd1809",
   "metadata": {},
   "source": [
    "# Supervised Machine Learning Models"
   ]
  },
  {
   "cell_type": "markdown",
   "id": "de6adc24",
   "metadata": {},
   "source": [
    "# Logistic Regression"
   ]
  },
  {
   "cell_type": "code",
   "execution_count": 44,
   "id": "61e09881",
   "metadata": {},
   "outputs": [],
   "source": [
    "import warnings\n",
    "warnings.filterwarnings('ignore')"
   ]
  },
  {
   "cell_type": "code",
   "execution_count": 45,
   "id": "6a5da74e",
   "metadata": {},
   "outputs": [
    {
     "data": {
      "text/plain": [
       "LogisticRegression()"
      ]
     },
     "execution_count": 45,
     "metadata": {},
     "output_type": "execute_result"
    }
   ],
   "source": [
    "#To fit the model\n",
    "from sklearn.linear_model import LogisticRegression\n",
    "lr = LogisticRegression()\n",
    "lr.fit(X_train, y_train)"
   ]
  },
  {
   "cell_type": "code",
   "execution_count": 46,
   "id": "073f315f",
   "metadata": {},
   "outputs": [
    {
     "name": "stdout",
     "output_type": "stream",
     "text": [
      "Predicted values are:  [3 3 1 1 1 2 1 4 3 4 1 2 3 3 2 1 1 1 3 4 4 1 4 3 1 1 2 3 3 3 3 1 1 1 1 1 4\n",
      " 3 1 3 4 1 4 4 3 1 1 3 1 3 4 1 1 1 3 2 1 1 3 0 1 3 3 1 1 3 3 1 3 2 2 2 3 4\n",
      " 4 1 2 2 4 1 4 1 1 1 1 1 3 3 3 1 1 1 3 1 3 4 4 3 1 1 1 2 1 2 3 3 4 1 0 0 3\n",
      " 1 1 1 0 1 1 3 1 2 3 3 0 1 1 1 1 2 3 3 3 3 1 3 3 2 3 1 3 3 0 2 3 4 2 1 3 1\n",
      " 3 1 1 1 3 1 3 3 1 1 2 1 3 3 1 2 3 1 2 1 3 1 1 2 3 3 1 3 1 4 1 3 1 3 4 3 4\n",
      " 1 1 3 3 1 1 1 1 4 3 3 1 1 4 4 3 1 3 1 2 1 3 3 4 1 1 1 1 3 1 2 3 1 3 3 2 1\n",
      " 4 1 2 1 3 1 3 3 1 1 3 1 3 4 4 2 2 3 1 2 3 1 1 2 1 1 4 3 1 3 3 3 1 3 1 3 2\n",
      " 3 4 1 1 4 4 4 1 1 1 1 1 1 1 4 1 1 1 1 1 1 3 1 3 1 3 4 1 4 3 4 3 3 1 3 0 3\n",
      " 3 4 2 2 3 3 4 3 4 1 2 1 3 3 3 1 1 3 3 1 1 4 1 2 1 0 1 3 1 1 3 1 3 1 1 1 3\n",
      " 1 1 1 2 1 3 3 3 2 1 1 3 3 1 1 3 1 1 3 3 3 3 4 3 4 1 3 2 3 1 1 1 1 1 1 3 0\n",
      " 1 4 1 3 1 1 1 3 1 1 2 3 3 3 1 4 2 4 3 2 3 1 4 3 3 1 1 4 1 2 1 3 4 1 1 3 4\n",
      " 3 3 4 4 1 3 2 1 3 1 1 3 4 1 1 3 1 3 2 1 2 4 0 1 4 1 1 3 1 1 3 3 4 1 1 4 1\n",
      " 1 1 1 3 2 1 1 3 1 1 3 3 4 1 3 1 3 4 3 1 1 2 2 3 4 3 1 4 3 3 1 3 3 2 1 3 4\n",
      " 1 3 4 3 3 3 3 1 2 1 1 3 4 1 0 1 1 1 1 3 1 3 2 4 1 1 1 1 3 1 2 3 1 3 4 2 1\n",
      " 3 1 3 3 3 3 1 1 3 1 3 1 4 1 4 1 1 1 4 1 2 1 4 4 3 3 2 1 1 1 4 3 2 1 3 1 4\n",
      " 3 2 3 1 1 1 1 1 3 1 3 3 1 2 1 4 1 1 3 2 1 3 4 2 1 2 1 1 1 3 1 2 1 2 1 1 3\n",
      " 3 3 3 3 3 3 4 3 3 1 1 4 1 1 4 3 1 3 1 4 3 1 1 3 1 4 4 3 3 1 3 1 3 3 3 1 3\n",
      " 2 1 1 1 1 1 4 3 1 1 2 3 1 3 2 3 1 3 1 3 1 2 1 3 4 4 3 1 3 1 1 4 3 4 1 1 4\n",
      " 1 4 4 3 1 3 4 3 1 1 3 1 2 1 3 1 3 0 1 1 0 3 3 4 3 1 1 1 4 1 4 4 2 4 1 1 3\n",
      " 3 3 3 1 3 2 3 1 3 0 2 1 3 1 0 3 1 3 1 1 4 1 1 3 1 3 1 3 1 1 1 4 4 4 1 2 3\n",
      " 2 3 1 3 1 1 3 1 4 2 3 1 1 3 4 4 1 3 3 1 2 3 1 1 3 1 1 3 1 4 3 3 1 3 2 3 1]\n"
     ]
    }
   ],
   "source": [
    "#To predict\n",
    "y_pred1 = lr.predict(X_test)\n",
    "print('Predicted values are: ',y_pred1)"
   ]
  },
  {
   "cell_type": "code",
   "execution_count": 47,
   "id": "85dc4c61",
   "metadata": {},
   "outputs": [],
   "source": [
    "#To check the accuracy, precision score, confusion matrix, recall score, f1 score\n",
    "from sklearn.metrics import confusion_matrix, accuracy_score , recall_score , precision_score, f1_score"
   ]
  },
  {
   "cell_type": "code",
   "execution_count": 48,
   "id": "27358009",
   "metadata": {},
   "outputs": [],
   "source": [
    "#Confusion Matrix\n",
    "conf1=confusion_matrix(y_test,y_pred1)"
   ]
  },
  {
   "cell_type": "code",
   "execution_count": 49,
   "id": "f3463261",
   "metadata": {},
   "outputs": [
    {
     "data": {
      "image/png": "[encoded data removed]",
      "text/plain": [
       "<Figure size 360x360 with 1 Axes>"
      ]
     },
     "metadata": {
      "needs_background": "light"
     },
     "output_type": "display_data"
    }
   ],
   "source": [
    "fig, ax = plt.subplots(figsize=(5, 5))\n",
    "ax.matshow(conf1, cmap=plt.cm.Oranges, alpha=0.3)\n",
    "for i in range(conf1.shape[0]):\n",
    "    for j in range(conf1.shape[1]):\n",
    "        ax.text(x=j, y=i,s=conf1[i, j], va='center', ha='center', size='xx-large')\n",
    " \n",
    "plt.xlabel('Predictions', fontsize=18)\n",
    "plt.ylabel('Actuals', fontsize=18)\n",
    "plt.title('Confusion Matrix', fontsize=18)\n",
    "plt.show()"
   ]
  },
  {
   "cell_type": "code",
   "execution_count": 50,
   "id": "5bb30510",
   "metadata": {},
   "outputs": [],
   "source": [
    "a1=round(accuracy_score(y_test,y_pred1),3)\n",
    "p1=round(precision_score(y_test, y_pred1,pos_label='positive',average='micro'),3)\n",
    "r1=round(recall_score(y_test, y_pred1,pos_label='positive',average='micro'),3)\n",
    "f1=round(f1_score(y_test, y_pred1,pos_label='positive',average='micro'),3)"
   ]
  },
  {
   "cell_type": "code",
   "execution_count": 51,
   "id": "61d231e8",
   "metadata": {},
   "outputs": [],
   "source": [
    "d1={\"Metric\":['Acccuracy Score','Precision Score','Recall Score','F1 Score'],\"Value\":[a1,p1,r1,f1]}"
   ]
  },
  {
   "cell_type": "code",
   "execution_count": 52,
   "id": "0f5818c0",
   "metadata": {},
   "outputs": [
    {
     "data": {
      "text/html": [
       "<div>\n",
       "<style scoped>\n",
       "    .dataframe tbody tr th:only-of-type {\n",
       "        vertical-align: middle;\n",
       "    }\n",
       "\n",
       "    .dataframe tbody tr th {\n",
       "        vertical-align: top;\n",
       "    }\n",
       "\n",
       "    .dataframe thead th {\n",
       "        text-align: right;\n",
       "    }\n",
       "</style>\n",
       "<table border=\"1\" class=\"dataframe\">\n",
       "  <thead>\n",
       "    <tr style=\"text-align: right;\">\n",
       "      <th></th>\n",
       "      <th>Metric</th>\n",
       "      <th>Value</th>\n",
       "    </tr>\n",
       "  </thead>\n",
       "  <tbody>\n",
       "    <tr>\n",
       "      <th>0</th>\n",
       "      <td>Acccuracy Score</td>\n",
       "      <td>0.459</td>\n",
       "    </tr>\n",
       "    <tr>\n",
       "      <th>1</th>\n",
       "      <td>Precision Score</td>\n",
       "      <td>0.459</td>\n",
       "    </tr>\n",
       "    <tr>\n",
       "      <th>2</th>\n",
       "      <td>Recall Score</td>\n",
       "      <td>0.459</td>\n",
       "    </tr>\n",
       "    <tr>\n",
       "      <th>3</th>\n",
       "      <td>F1 Score</td>\n",
       "      <td>0.459</td>\n",
       "    </tr>\n",
       "  </tbody>\n",
       "</table>\n",
       "</div>"
      ],
      "text/plain": [
       "            Metric  Value\n",
       "0  Acccuracy Score  0.459\n",
       "1  Precision Score  0.459\n",
       "2     Recall Score  0.459\n",
       "3         F1 Score  0.459"
      ]
     },
     "execution_count": 52,
     "metadata": {},
     "output_type": "execute_result"
    }
   ],
   "source": [
    "pd.DataFrame(d1)"
   ]
  },
  {
   "cell_type": "markdown",
   "id": "f943803b",
   "metadata": {},
   "source": [
    "# Support Vector Machine"
   ]
  },
  {
   "cell_type": "code",
   "execution_count": 53,
   "id": "2629029b",
   "metadata": {},
   "outputs": [
    {
     "data": {
      "text/plain": [
       "SVC(kernel='linear')"
      ]
     },
     "execution_count": 53,
     "metadata": {},
     "output_type": "execute_result"
    }
   ],
   "source": [
    "# To fit the model\n",
    "from sklearn.svm import SVC\n",
    "svc = SVC(kernel = 'linear')\n",
    "svc.fit(X_train, y_train)"
   ]
  },
  {
   "cell_type": "code",
   "execution_count": 54,
   "id": "49eff1ab",
   "metadata": {},
   "outputs": [
    {
     "name": "stdout",
     "output_type": "stream",
     "text": [
      "Predicted values are:  [3 3 3 1 1 2 1 4 3 4 3 4 3 3 4 1 1 1 3 4 4 1 4 3 1 1 2 2 3 1 3 1 1 1 1 1 4\n",
      " 3 1 3 4 1 4 4 3 1 1 3 1 3 4 1 1 1 3 2 1 1 3 4 1 3 3 1 1 3 3 1 3 2 2 2 3 4\n",
      " 4 1 4 4 4 1 4 1 1 1 1 1 3 3 1 1 3 1 3 1 3 4 4 3 1 1 1 4 1 2 3 3 4 1 4 4 3\n",
      " 1 1 1 4 1 1 3 1 4 3 3 4 1 1 1 1 2 3 3 3 3 3 3 3 2 1 1 3 3 4 4 3 4 2 1 3 1\n",
      " 3 1 1 1 3 1 3 3 1 1 2 1 3 3 1 2 3 1 2 1 3 1 1 2 3 3 1 3 1 4 1 3 1 3 4 3 4\n",
      " 1 1 3 3 1 1 1 1 4 1 3 1 3 4 4 3 1 3 1 2 1 3 3 4 1 1 1 1 3 1 2 3 1 3 3 2 1\n",
      " 4 1 2 3 3 1 3 3 1 1 3 1 3 4 4 4 2 3 1 2 3 1 1 2 1 1 4 3 1 3 3 3 1 3 1 3 2\n",
      " 1 4 1 1 4 4 4 1 1 1 1 1 1 1 4 1 1 1 1 1 1 3 1 3 1 3 4 1 4 3 4 3 3 1 3 4 3\n",
      " 3 4 2 4 3 3 4 3 4 1 4 1 3 3 3 1 1 3 3 1 1 4 1 2 1 4 1 3 1 1 3 1 3 1 1 1 3\n",
      " 1 1 1 4 1 3 3 3 4 1 1 3 3 1 1 3 1 1 3 3 3 3 4 3 4 1 3 2 3 1 1 1 1 2 1 3 4\n",
      " 1 4 1 3 1 1 1 3 1 1 2 3 3 3 1 4 2 4 3 4 3 1 4 3 3 1 1 4 1 2 1 3 4 1 1 1 4\n",
      " 3 3 4 4 1 3 4 1 3 1 1 1 4 1 1 1 1 3 2 1 2 4 4 1 4 1 1 3 1 1 1 3 4 1 1 4 3\n",
      " 1 1 1 3 4 1 1 3 1 1 3 3 4 1 3 1 3 4 1 1 3 4 2 2 4 3 1 4 3 3 1 3 3 2 1 3 4\n",
      " 1 3 4 3 3 3 3 1 2 1 1 1 4 1 4 1 1 1 1 3 1 3 2 4 1 1 1 1 2 1 2 3 1 3 4 2 1\n",
      " 2 1 3 3 1 3 1 1 3 2 3 1 4 1 4 1 1 1 4 1 2 1 4 4 2 3 2 1 1 1 4 3 4 1 3 1 4\n",
      " 3 2 3 1 1 1 1 1 3 1 3 3 1 2 1 4 1 1 3 2 1 3 4 4 1 2 1 1 1 3 1 2 1 2 1 1 3\n",
      " 3 3 3 1 3 3 4 3 3 1 1 4 1 1 4 3 1 3 1 4 3 1 1 1 1 4 4 3 3 1 1 1 3 3 3 1 3\n",
      " 2 1 1 3 1 1 4 3 1 1 2 3 1 3 2 3 1 3 1 1 1 2 1 3 4 4 3 1 3 1 1 4 3 4 1 1 4\n",
      " 1 4 4 3 1 1 4 3 1 1 3 1 2 1 3 1 3 4 1 1 4 3 3 4 3 1 1 1 4 1 4 4 2 4 1 1 3\n",
      " 3 1 3 1 3 4 3 1 3 4 2 1 3 3 4 3 1 3 1 1 4 1 1 3 1 3 1 3 1 1 1 4 4 4 1 2 1\n",
      " 2 3 1 3 1 1 3 1 4 2 3 1 1 3 4 4 1 3 3 1 2 3 1 1 3 1 1 3 1 4 3 3 1 3 2 3 1]\n"
     ]
    }
   ],
   "source": [
    "#To predict\n",
    "y_pred3 = svc.predict(X_test)\n",
    "print('Predicted values are: ',y_pred3)"
   ]
  },
  {
   "cell_type": "code",
   "execution_count": 55,
   "id": "cc94f295",
   "metadata": {},
   "outputs": [],
   "source": [
    "#Confusion Matrix\n",
    "conf3=confusion_matrix(y_test,y_pred3)"
   ]
  },
  {
   "cell_type": "code",
   "execution_count": 56,
   "id": "409fffe3",
   "metadata": {},
   "outputs": [
    {
     "data": {
      "image/png": "[encoded data removed]",
      "text/plain": [
       "<Figure size 360x360 with 1 Axes>"
      ]
     },
     "metadata": {
      "needs_background": "light"
     },
     "output_type": "display_data"
    }
   ],
   "source": [
    "fig, ax = plt.subplots(figsize=(5, 5))\n",
    "ax.matshow(conf3, cmap=plt.cm.Oranges, alpha=0.3)\n",
    "for i in range(conf3.shape[0]):\n",
    "    for j in range(conf3.shape[1]):\n",
    "        ax.text(x=j, y=i,s=conf3[i, j], va='center', ha='center', size='xx-large')\n",
    " \n",
    "plt.xlabel('Predictions', fontsize=18)\n",
    "plt.ylabel('Actuals', fontsize=18)\n",
    "plt.title('Confusion Matrix', fontsize=18)\n",
    "plt.show()"
   ]
  },
  {
   "cell_type": "code",
   "execution_count": 57,
   "id": "6e4a8550",
   "metadata": {},
   "outputs": [],
   "source": [
    "a3=round(accuracy_score(y_test,y_pred3),3)\n",
    "p3=round(precision_score(y_test, y_pred3,pos_label='positive',average='micro'),3)\n",
    "r3=round(recall_score(y_test, y_pred3,pos_label='positive',average='micro'),3)\n",
    "f3=round(f1_score(y_test, y_pred3,pos_label='positive',average='macro'),3)"
   ]
  },
  {
   "cell_type": "code",
   "execution_count": 58,
   "id": "1961acd8",
   "metadata": {},
   "outputs": [],
   "source": [
    "d3={\"Metric\":['Acccuracy Score','Precision Score','Recall Score','F1 Score'],\"Value\":[a3,p3,r3,f3]}"
   ]
  },
  {
   "cell_type": "code",
   "execution_count": 59,
   "id": "2f3a7676",
   "metadata": {},
   "outputs": [
    {
     "data": {
      "text/html": [
       "<div>\n",
       "<style scoped>\n",
       "    .dataframe tbody tr th:only-of-type {\n",
       "        vertical-align: middle;\n",
       "    }\n",
       "\n",
       "    .dataframe tbody tr th {\n",
       "        vertical-align: top;\n",
       "    }\n",
       "\n",
       "    .dataframe thead th {\n",
       "        text-align: right;\n",
       "    }\n",
       "</style>\n",
       "<table border=\"1\" class=\"dataframe\">\n",
       "  <thead>\n",
       "    <tr style=\"text-align: right;\">\n",
       "      <th></th>\n",
       "      <th>Metric</th>\n",
       "      <th>Value</th>\n",
       "    </tr>\n",
       "  </thead>\n",
       "  <tbody>\n",
       "    <tr>\n",
       "      <th>0</th>\n",
       "      <td>Acccuracy Score</td>\n",
       "      <td>0.447</td>\n",
       "    </tr>\n",
       "    <tr>\n",
       "      <th>1</th>\n",
       "      <td>Precision Score</td>\n",
       "      <td>0.447</td>\n",
       "    </tr>\n",
       "    <tr>\n",
       "      <th>2</th>\n",
       "      <td>Recall Score</td>\n",
       "      <td>0.447</td>\n",
       "    </tr>\n",
       "    <tr>\n",
       "      <th>3</th>\n",
       "      <td>F1 Score</td>\n",
       "      <td>0.350</td>\n",
       "    </tr>\n",
       "  </tbody>\n",
       "</table>\n",
       "</div>"
      ],
      "text/plain": [
       "            Metric  Value\n",
       "0  Acccuracy Score  0.447\n",
       "1  Precision Score  0.447\n",
       "2     Recall Score  0.447\n",
       "3         F1 Score  0.350"
      ]
     },
     "execution_count": 59,
     "metadata": {},
     "output_type": "execute_result"
    }
   ],
   "source": [
    "pd.DataFrame(d3)"
   ]
  },
  {
   "cell_type": "markdown",
   "id": "455f3922",
   "metadata": {},
   "source": [
    "# KNN Classifier"
   ]
  },
  {
   "cell_type": "code",
   "execution_count": 60,
   "id": "4fae3c18",
   "metadata": {},
   "outputs": [],
   "source": [
    "#To check for which k value we have highest accuracy\n",
    "from sklearn.neighbors import KNeighborsClassifier\n",
    "acc_values=[]\n",
    "neighbors=np.arange(3,15)\n",
    "for k in neighbors:\n",
    "  Classifier = KNeighborsClassifier(n_neighbors=k, metric='minkowski')\n",
    "  Classifier.fit(X_train,y_train)\n",
    "  y_pred2=Classifier.predict(X_test)\n",
    "  acc=accuracy_score(y_test,y_pred2)\n",
    "  acc_values.append(acc)"
   ]
  },
  {
   "cell_type": "code",
   "execution_count": 61,
   "id": "11f442c3",
   "metadata": {},
   "outputs": [
    {
     "data": {
      "text/plain": [
       "[0.47104247104247104,\n",
       " 0.45817245817245816,\n",
       " 0.47876447876447875,\n",
       " 0.47361647361647363,\n",
       " 0.4839124839124839,\n",
       " 0.49034749034749037,\n",
       " 0.47104247104247104,\n",
       " 0.47876447876447875,\n",
       " 0.4800514800514801,\n",
       " 0.4826254826254826,\n",
       " 0.4671814671814672,\n",
       " 0.46589446589446587]"
      ]
     },
     "execution_count": 61,
     "metadata": {},
     "output_type": "execute_result"
    }
   ],
   "source": [
    "acc_values"
   ]
  },
  {
   "cell_type": "code",
   "execution_count": 62,
   "id": "eb2a6356",
   "metadata": {},
   "outputs": [
    {
     "data": {
      "text/plain": [
       "Text(0, 0.5, 'accuracy')"
      ]
     },
     "execution_count": 62,
     "metadata": {},
     "output_type": "execute_result"
    },
    {
     "data": {
      "image/png": "[encoded data removed]",
      "text/plain": [
       "<Figure size 432x288 with 1 Axes>"
      ]
     },
     "metadata": {
      "needs_background": "light"
     },
     "output_type": "display_data"
    }
   ],
   "source": [
    "plt.plot(neighbors,acc_values, 'o-')\n",
    "plt.xlabel('kvalue')\n",
    "plt.ylabel('accuracy')"
   ]
  },
  {
   "cell_type": "code",
   "execution_count": 63,
   "id": "7dbc98e5",
   "metadata": {},
   "outputs": [
    {
     "data": {
      "text/plain": [
       "KNeighborsClassifier(n_neighbors=8)"
      ]
     },
     "execution_count": 63,
     "metadata": {},
     "output_type": "execute_result"
    }
   ],
   "source": [
    "#To fit the model\n",
    "knn = KNeighborsClassifier(n_neighbors=8, metric='minkowski')\n",
    "knn.fit(X_train,y_train)"
   ]
  },
  {
   "cell_type": "code",
   "execution_count": 64,
   "id": "71036bb5",
   "metadata": {},
   "outputs": [
    {
     "name": "stdout",
     "output_type": "stream",
     "text": [
      "Predicted values are:  [1 3 2 1 1 2 1 4 1 4 3 4 3 3 2 3 1 1 3 4 4 1 0 2 1 1 2 1 1 3 3 1 1 1 1 1 0\n",
      " 3 1 1 4 1 0 4 3 1 1 3 1 3 4 2 1 1 3 4 1 1 3 0 1 3 1 1 1 3 3 3 1 1 1 1 1 0\n",
      " 0 1 2 2 4 1 0 2 1 1 1 3 1 3 3 1 1 1 1 1 1 0 4 3 1 1 1 2 1 2 1 2 0 1 0 4 3\n",
      " 1 1 1 0 1 1 3 1 4 3 3 0 3 1 3 1 2 3 3 3 3 1 3 1 2 1 3 3 3 4 4 3 0 4 3 3 1\n",
      " 1 1 3 1 3 2 3 3 1 1 3 4 3 1 1 3 3 1 2 3 3 3 1 4 1 1 1 3 1 4 3 1 3 1 0 1 0\n",
      " 1 3 1 2 1 1 1 1 4 3 1 2 3 2 4 1 2 1 2 2 3 3 3 0 2 1 1 1 3 2 3 1 1 3 3 2 1\n",
      " 0 1 2 1 3 1 3 2 3 1 3 1 3 4 2 2 2 3 1 1 3 1 2 1 1 1 0 3 3 3 1 3 1 1 3 2 2\n",
      " 3 4 1 3 4 0 0 3 1 1 1 1 1 1 4 1 1 1 1 1 2 3 1 3 2 3 4 1 0 1 4 3 3 1 1 0 3\n",
      " 3 4 2 2 3 3 0 2 2 1 0 1 3 1 1 1 1 1 3 1 3 4 1 2 1 4 1 3 3 1 1 1 1 1 3 1 3\n",
      " 2 2 1 2 2 3 1 1 2 1 1 3 1 2 3 2 1 1 3 1 2 3 0 3 4 1 3 3 1 2 1 2 1 2 2 3 4\n",
      " 3 4 1 3 1 1 1 1 1 2 2 1 3 1 3 4 2 4 2 2 3 1 4 1 3 1 2 4 1 2 1 2 2 3 1 3 2\n",
      " 3 2 0 4 1 1 2 1 1 3 1 1 4 1 1 1 1 1 4 3 2 4 4 1 4 1 1 3 2 1 3 1 2 1 2 0 1\n",
      " 1 1 1 3 2 1 2 3 1 2 1 3 4 2 1 1 3 4 1 1 1 4 2 2 2 3 2 2 3 3 2 3 3 2 1 3 4\n",
      " 2 3 2 3 1 3 2 2 4 1 1 3 4 1 0 1 3 2 2 2 2 1 2 4 1 1 2 1 1 1 2 3 1 1 4 2 1\n",
      " 1 1 3 3 1 3 1 1 1 2 1 3 0 2 4 1 1 4 0 2 1 1 0 0 1 1 2 3 1 1 4 1 2 1 2 3 4\n",
      " 1 2 3 1 1 1 1 1 3 2 2 3 1 3 3 0 1 1 3 2 1 3 2 4 1 2 3 1 1 3 1 2 1 4 1 1 3\n",
      " 3 1 3 3 1 3 2 1 3 1 1 0 1 1 2 1 2 3 3 0 1 3 1 3 1 2 2 3 3 1 3 1 3 1 2 1 3\n",
      " 2 1 1 2 2 2 4 3 2 1 2 3 3 1 1 3 3 3 4 3 1 2 1 3 2 4 3 1 3 1 1 0 3 0 1 1 0\n",
      " 1 4 4 3 2 3 0 3 3 1 3 1 2 2 3 1 1 0 1 3 0 3 3 0 2 1 1 2 4 1 0 4 2 4 2 2 1\n",
      " 1 3 3 1 3 4 3 1 3 0 1 1 3 2 4 3 1 3 1 1 2 1 1 1 2 1 1 1 1 1 1 0 4 0 1 2 3\n",
      " 2 3 1 3 1 2 3 1 2 2 1 1 1 3 4 0 3 1 1 1 2 3 1 2 3 1 1 1 1 4 3 3 2 3 1 3 1]\n"
     ]
    }
   ],
   "source": [
    "#To predict\n",
    "y_pred2 = knn.predict(X_test)\n",
    "print('Predicted values are: ',y_pred2)"
   ]
  },
  {
   "cell_type": "code",
   "execution_count": 65,
   "id": "90df640b",
   "metadata": {},
   "outputs": [],
   "source": [
    "#Confusion Matrix\n",
    "conf2=confusion_matrix(y_test,y_pred2)"
   ]
  },
  {
   "cell_type": "code",
   "execution_count": 66,
   "id": "7ae57779",
   "metadata": {},
   "outputs": [
    {
     "data": {
      "image/png": "[encoded data removed]",
      "text/plain": [
       "<Figure size 360x360 with 1 Axes>"
      ]
     },
     "metadata": {
      "needs_background": "light"
     },
     "output_type": "display_data"
    }
   ],
   "source": [
    "fig, ax = plt.subplots(figsize=(5, 5))\n",
    "ax.matshow(conf2, cmap=plt.cm.Oranges, alpha=0.3)\n",
    "for i in range(conf2.shape[0]):\n",
    "    for j in range(conf2.shape[1]):\n",
    "        ax.text(x=j, y=i,s=conf2[i, j], va='center', ha='center', size='xx-large')\n",
    " \n",
    "plt.xlabel('Predictions', fontsize=18)\n",
    "plt.ylabel('Actuals', fontsize=18)\n",
    "plt.title('Confusion Matrix', fontsize=18)\n",
    "plt.show()"
   ]
  },
  {
   "cell_type": "code",
   "execution_count": 67,
   "id": "19408274",
   "metadata": {},
   "outputs": [],
   "source": [
    "a2=round(accuracy_score(y_test,y_pred2),3)\n",
    "p2=round(precision_score(y_test, y_pred2,pos_label='positive',average='micro'),3)\n",
    "r2=round(recall_score(y_test, y_pred2,pos_label='positive',average='micro'),3)\n",
    "f2=round(f1_score(y_test, y_pred2,pos_label='positive',average='micro'),3)"
   ]
  },
  {
   "cell_type": "code",
   "execution_count": 68,
   "id": "af222f6f",
   "metadata": {},
   "outputs": [],
   "source": [
    "d2={\"Metric\":['Acccuracy Score','Precision Score','Recall Score','F1 Score'],\"Value\":[a2,p2,r2,f2]}"
   ]
  },
  {
   "cell_type": "code",
   "execution_count": 69,
   "id": "4e78f991",
   "metadata": {},
   "outputs": [
    {
     "data": {
      "text/html": [
       "<div>\n",
       "<style scoped>\n",
       "    .dataframe tbody tr th:only-of-type {\n",
       "        vertical-align: middle;\n",
       "    }\n",
       "\n",
       "    .dataframe tbody tr th {\n",
       "        vertical-align: top;\n",
       "    }\n",
       "\n",
       "    .dataframe thead th {\n",
       "        text-align: right;\n",
       "    }\n",
       "</style>\n",
       "<table border=\"1\" class=\"dataframe\">\n",
       "  <thead>\n",
       "    <tr style=\"text-align: right;\">\n",
       "      <th></th>\n",
       "      <th>Metric</th>\n",
       "      <th>Value</th>\n",
       "    </tr>\n",
       "  </thead>\n",
       "  <tbody>\n",
       "    <tr>\n",
       "      <th>0</th>\n",
       "      <td>Acccuracy Score</td>\n",
       "      <td>0.49</td>\n",
       "    </tr>\n",
       "    <tr>\n",
       "      <th>1</th>\n",
       "      <td>Precision Score</td>\n",
       "      <td>0.49</td>\n",
       "    </tr>\n",
       "    <tr>\n",
       "      <th>2</th>\n",
       "      <td>Recall Score</td>\n",
       "      <td>0.49</td>\n",
       "    </tr>\n",
       "    <tr>\n",
       "      <th>3</th>\n",
       "      <td>F1 Score</td>\n",
       "      <td>0.49</td>\n",
       "    </tr>\n",
       "  </tbody>\n",
       "</table>\n",
       "</div>"
      ],
      "text/plain": [
       "            Metric  Value\n",
       "0  Acccuracy Score   0.49\n",
       "1  Precision Score   0.49\n",
       "2     Recall Score   0.49\n",
       "3         F1 Score   0.49"
      ]
     },
     "execution_count": 69,
     "metadata": {},
     "output_type": "execute_result"
    }
   ],
   "source": [
    "pd.DataFrame(d2)"
   ]
  },
  {
   "cell_type": "markdown",
   "id": "0c66ecfb",
   "metadata": {},
   "source": [
    "# Decision Tree Classifier"
   ]
  },
  {
   "cell_type": "code",
   "execution_count": 70,
   "id": "ae18b454",
   "metadata": {},
   "outputs": [
    {
     "data": {
      "text/plain": [
       "DecisionTreeClassifier()"
      ]
     },
     "execution_count": 70,
     "metadata": {},
     "output_type": "execute_result"
    }
   ],
   "source": [
    "#To fit the model\n",
    "from sklearn.tree import DecisionTreeClassifier\n",
    "dt = DecisionTreeClassifier()\n",
    "dt.fit(X_train, y_train)"
   ]
  },
  {
   "cell_type": "code",
   "execution_count": 71,
   "id": "4fd9e149",
   "metadata": {},
   "outputs": [
    {
     "name": "stdout",
     "output_type": "stream",
     "text": [
      "Predicted values are:  [3 1 2 2 3 2 3 0 4 0 3 4 3 1 2 3 1 1 3 4 4 2 1 2 2 1 4 1 3 3 3 1 3 1 3 3 4\n",
      " 1 1 2 0 1 4 0 3 1 1 3 1 3 0 2 1 1 1 4 1 1 3 0 2 3 1 3 3 4 3 2 1 3 1 1 1 0\n",
      " 4 2 1 4 4 3 2 2 1 1 3 1 1 3 3 3 2 2 1 2 4 0 4 3 2 1 3 3 1 4 1 2 2 1 0 4 3\n",
      " 1 1 1 0 3 2 3 3 4 3 1 2 3 3 1 1 2 3 3 1 1 1 3 3 4 3 3 3 3 4 4 3 4 4 2 1 3\n",
      " 3 1 1 3 3 2 1 1 1 1 4 2 3 1 1 3 3 1 1 4 3 3 4 2 1 2 2 3 1 0 1 2 1 3 0 2 0\n",
      " 1 3 1 1 1 1 1 1 4 3 2 2 3 1 2 2 3 3 2 4 3 3 1 4 2 1 1 1 1 2 2 3 4 3 3 2 3\n",
      " 0 1 1 3 3 3 3 2 1 3 3 3 3 4 1 2 2 3 2 4 3 1 1 1 1 1 4 1 3 3 2 1 1 1 3 1 1\n",
      " 3 4 3 3 0 4 4 1 1 1 2 1 1 3 4 1 2 1 1 2 1 3 1 1 1 1 4 2 3 4 4 1 1 1 1 4 3\n",
      " 1 4 2 2 1 3 2 2 0 1 4 4 3 2 1 1 3 1 3 1 1 3 3 2 2 4 1 3 3 2 1 1 1 1 1 3 1\n",
      " 1 4 4 3 2 3 1 1 2 1 2 3 1 2 1 3 1 3 2 2 2 3 2 1 0 1 3 3 1 3 2 2 1 3 2 3 2\n",
      " 3 4 2 3 1 1 2 1 1 2 1 1 3 3 1 2 2 4 3 3 1 2 1 3 1 1 1 4 1 1 3 2 0 3 0 1 3\n",
      " 3 2 0 0 1 2 4 3 3 3 2 1 4 2 1 2 1 3 3 1 4 4 4 1 0 1 1 3 1 1 3 3 4 3 3 4 1\n",
      " 1 1 1 3 1 3 2 3 1 1 1 3 4 2 3 1 3 0 2 3 1 4 4 3 2 3 1 2 1 1 1 3 3 1 1 3 0\n",
      " 2 3 2 3 1 3 2 2 2 1 1 1 3 1 3 1 3 2 1 1 1 1 2 4 1 1 4 1 2 2 4 3 3 3 4 2 3\n",
      " 1 1 1 1 3 3 3 3 2 1 3 3 2 3 2 1 3 1 0 2 1 3 0 2 3 1 4 1 1 1 0 1 2 2 3 2 4\n",
      " 1 3 2 1 2 3 2 1 3 2 2 1 2 3 3 4 1 3 3 1 3 3 2 4 0 2 3 1 3 3 2 2 2 1 2 3 3\n",
      " 3 1 1 1 1 3 2 1 3 1 1 0 4 3 4 3 3 3 2 1 1 1 2 3 1 4 4 3 3 2 3 1 3 1 2 3 3\n",
      " 2 3 1 2 2 2 4 1 2 1 4 3 3 1 1 3 1 1 3 1 1 4 3 1 2 4 1 3 2 1 1 4 3 4 1 3 2\n",
      " 1 3 4 3 2 1 0 1 3 1 2 1 2 2 1 2 1 0 1 1 0 1 3 2 4 1 3 3 4 2 2 2 4 2 1 2 3\n",
      " 1 3 3 3 3 1 3 3 3 0 4 1 3 1 0 1 1 3 2 2 4 2 3 1 4 1 1 3 1 2 1 0 0 4 3 2 1\n",
      " 4 3 1 3 2 4 3 3 4 4 1 2 1 3 0 0 3 3 3 3 2 1 1 1 1 1 1 1 1 4 1 1 1 3 1 3 3]\n"
     ]
    }
   ],
   "source": [
    "#To predict\n",
    "y_pred4 = dt.predict(X_test)\n",
    "print('Predicted values are: ',y_pred4)"
   ]
  },
  {
   "cell_type": "code",
   "execution_count": 72,
   "id": "4e4d26dc",
   "metadata": {},
   "outputs": [],
   "source": [
    "#Confusion Matrix\n",
    "conf4=confusion_matrix(y_test,y_pred4)"
   ]
  },
  {
   "cell_type": "code",
   "execution_count": 73,
   "id": "45ef2100",
   "metadata": {},
   "outputs": [
    {
     "data": {
      "image/png": "[encoded data removed]",
      "text/plain": [
       "<Figure size 360x360 with 1 Axes>"
      ]
     },
     "metadata": {
      "needs_background": "light"
     },
     "output_type": "display_data"
    }
   ],
   "source": [
    "fig, ax = plt.subplots(figsize=(5, 5))\n",
    "ax.matshow(conf4, cmap=plt.cm.Oranges, alpha=0.3)\n",
    "for i in range(conf4.shape[0]):\n",
    "    for j in range(conf4.shape[1]):\n",
    "        ax.text(x=j, y=i,s=conf4[i, j], va='center', ha='center', size='xx-large')\n",
    " \n",
    "plt.xlabel('Predictions', fontsize=18)\n",
    "plt.ylabel('Actuals', fontsize=18)\n",
    "plt.title('Confusion Matrix', fontsize=18)\n",
    "plt.show()"
   ]
  },
  {
   "cell_type": "code",
   "execution_count": 74,
   "id": "aea93d9c",
   "metadata": {},
   "outputs": [],
   "source": [
    "a4=round(accuracy_score(y_test,y_pred4),3)\n",
    "p4=round(precision_score(y_test, y_pred4,pos_label='positive',average='macro'),3)\n",
    "r4=round(recall_score(y_test, y_pred4,pos_label='positive',average='macro'),3)\n",
    "f4=round(f1_score(y_test, y_pred4,pos_label='positive',average='macro'),3)"
   ]
  },
  {
   "cell_type": "code",
   "execution_count": 75,
   "id": "00f48daa",
   "metadata": {},
   "outputs": [],
   "source": [
    "d4={\"Metric\":['Acccuracy Score','Precision Score','Recall Score','F1 Score'],\"Value\":[a4,p4,r4,f4]}"
   ]
  },
  {
   "cell_type": "code",
   "execution_count": 76,
   "id": "2bc14ded",
   "metadata": {},
   "outputs": [
    {
     "data": {
      "text/html": [
       "<div>\n",
       "<style scoped>\n",
       "    .dataframe tbody tr th:only-of-type {\n",
       "        vertical-align: middle;\n",
       "    }\n",
       "\n",
       "    .dataframe tbody tr th {\n",
       "        vertical-align: top;\n",
       "    }\n",
       "\n",
       "    .dataframe thead th {\n",
       "        text-align: right;\n",
       "    }\n",
       "</style>\n",
       "<table border=\"1\" class=\"dataframe\">\n",
       "  <thead>\n",
       "    <tr style=\"text-align: right;\">\n",
       "      <th></th>\n",
       "      <th>Metric</th>\n",
       "      <th>Value</th>\n",
       "    </tr>\n",
       "  </thead>\n",
       "  <tbody>\n",
       "    <tr>\n",
       "      <th>0</th>\n",
       "      <td>Acccuracy Score</td>\n",
       "      <td>0.430</td>\n",
       "    </tr>\n",
       "    <tr>\n",
       "      <th>1</th>\n",
       "      <td>Precision Score</td>\n",
       "      <td>0.413</td>\n",
       "    </tr>\n",
       "    <tr>\n",
       "      <th>2</th>\n",
       "      <td>Recall Score</td>\n",
       "      <td>0.400</td>\n",
       "    </tr>\n",
       "    <tr>\n",
       "      <th>3</th>\n",
       "      <td>F1 Score</td>\n",
       "      <td>0.405</td>\n",
       "    </tr>\n",
       "  </tbody>\n",
       "</table>\n",
       "</div>"
      ],
      "text/plain": [
       "            Metric  Value\n",
       "0  Acccuracy Score  0.430\n",
       "1  Precision Score  0.413\n",
       "2     Recall Score  0.400\n",
       "3         F1 Score  0.405"
      ]
     },
     "execution_count": 76,
     "metadata": {},
     "output_type": "execute_result"
    }
   ],
   "source": [
    "pd.DataFrame(d4)"
   ]
  },
  {
   "cell_type": "markdown",
   "id": "d8662359",
   "metadata": {},
   "source": [
    "# Random Forest Classifier"
   ]
  },
  {
   "cell_type": "code",
   "execution_count": 77,
   "id": "067210e1",
   "metadata": {},
   "outputs": [
    {
     "data": {
      "text/plain": [
       "RandomForestClassifier()"
      ]
     },
     "execution_count": 77,
     "metadata": {},
     "output_type": "execute_result"
    }
   ],
   "source": [
    "#To fit the model\n",
    "from sklearn.ensemble import RandomForestClassifier\n",
    "rf = RandomForestClassifier()\n",
    "rf.fit(X_train, y_train)"
   ]
  },
  {
   "cell_type": "code",
   "execution_count": 78,
   "id": "734fb5dc",
   "metadata": {},
   "outputs": [
    {
     "name": "stdout",
     "output_type": "stream",
     "text": [
      "Predicted values are:  [3 1 2 1 3 2 3 0 1 0 2 4 3 3 2 3 1 1 3 0 0 2 1 2 3 1 2 1 2 3 3 1 3 1 2 3 4\n",
      " 1 1 3 2 3 4 0 3 1 1 3 1 3 0 2 1 1 1 2 1 1 3 4 2 3 1 3 3 3 3 1 3 3 1 1 1 0\n",
      " 4 2 2 4 4 3 4 2 1 1 3 1 1 1 3 3 2 1 1 2 4 0 4 3 2 1 3 3 1 2 1 2 4 1 0 4 3\n",
      " 1 1 1 0 3 2 3 3 4 3 3 0 3 3 3 1 2 3 3 3 1 1 3 1 4 3 3 3 3 0 4 3 4 4 2 1 3\n",
      " 3 3 1 3 3 2 3 3 2 1 2 2 3 1 1 3 3 1 1 4 3 1 4 3 1 1 3 3 1 4 1 2 2 1 0 3 0\n",
      " 1 3 1 1 1 1 1 3 4 3 1 2 2 1 2 2 2 3 2 2 3 3 1 0 2 1 1 1 3 2 2 3 4 3 1 2 3\n",
      " 0 1 1 3 3 3 3 2 3 1 3 3 3 4 3 2 2 3 2 2 3 1 1 1 1 1 1 3 3 3 2 3 1 3 3 3 2\n",
      " 3 4 3 3 0 0 2 3 1 1 1 1 1 2 4 1 2 1 1 2 2 3 1 1 2 1 4 2 3 1 4 1 3 1 1 0 3\n",
      " 3 4 2 2 1 3 4 2 4 1 1 3 3 2 1 1 3 1 3 1 1 4 3 2 2 4 1 3 3 1 1 1 1 1 3 3 1\n",
      " 1 2 2 4 2 3 1 1 4 1 1 3 1 2 1 1 1 3 2 3 2 3 2 3 0 1 3 3 1 3 2 2 1 3 2 3 4\n",
      " 3 2 1 3 1 1 1 1 1 2 1 3 3 1 1 4 2 4 3 3 1 2 0 1 3 1 1 4 1 2 3 2 2 3 3 3 3\n",
      " 3 2 0 4 1 1 4 3 3 3 1 1 4 4 1 2 1 3 4 3 2 4 4 1 0 2 1 3 1 2 3 3 4 3 3 4 1\n",
      " 2 1 1 3 3 2 2 3 1 4 1 3 3 2 3 1 1 0 2 3 4 4 2 3 2 3 2 2 3 1 1 3 3 2 1 3 0\n",
      " 2 3 2 3 1 3 2 2 4 1 1 3 4 3 0 1 3 1 2 1 1 1 2 4 1 1 1 1 3 2 4 3 3 3 4 2 3\n",
      " 3 1 3 1 3 3 3 1 1 1 3 3 2 3 0 1 1 2 4 2 1 3 0 0 3 1 2 1 1 1 0 1 2 1 3 1 4\n",
      " 1 2 3 1 2 3 2 1 3 1 2 3 1 3 3 4 1 3 3 2 1 3 2 4 2 2 3 2 1 3 1 2 2 1 3 2 3\n",
      " 3 3 1 3 1 3 2 1 3 1 1 0 4 3 2 3 2 3 3 1 1 2 2 3 1 4 4 3 3 2 3 1 3 1 2 2 3\n",
      " 2 3 1 2 2 2 4 3 2 1 2 3 1 1 1 3 1 3 2 1 1 2 3 1 4 0 1 1 2 1 1 4 3 4 1 1 2\n",
      " 1 3 4 3 2 3 4 3 3 1 1 1 2 2 1 2 1 4 1 1 0 3 3 2 2 1 2 2 4 1 2 0 1 0 2 2 3\n",
      " 1 3 3 3 3 4 3 3 3 0 2 1 3 1 0 1 2 3 2 1 4 4 1 1 2 1 2 3 1 1 1 4 0 4 3 2 1\n",
      " 2 3 1 3 2 4 3 1 4 4 1 3 1 3 4 0 3 1 3 1 2 3 1 2 1 1 1 1 1 4 1 1 3 3 1 3 1]\n"
     ]
    }
   ],
   "source": [
    "#To predict\n",
    "y_pred5 = rf.predict(X_test)\n",
    "print('Predicted values are: ',y_pred5)"
   ]
  },
  {
   "cell_type": "code",
   "execution_count": 79,
   "id": "a00e2d35",
   "metadata": {},
   "outputs": [],
   "source": [
    "#Confusion Matrix\n",
    "conf5=confusion_matrix(y_test,y_pred5)"
   ]
  },
  {
   "cell_type": "code",
   "execution_count": 80,
   "id": "9342000a",
   "metadata": {},
   "outputs": [
    {
     "data": {
      "image/png": "[encoded data removed]",
      "text/plain": [
       "<Figure size 360x360 with 1 Axes>"
      ]
     },
     "metadata": {
      "needs_background": "light"
     },
     "output_type": "display_data"
    }
   ],
   "source": [
    "fig, ax = plt.subplots(figsize=(5, 5))\n",
    "ax.matshow(conf5, cmap=plt.cm.Oranges, alpha=0.3)\n",
    "for i in range(conf5.shape[0]):\n",
    "    for j in range(conf5.shape[1]):\n",
    "        ax.text(x=j, y=i,s=conf5[i, j], va='center', ha='center', size='xx-large')\n",
    " \n",
    "plt.xlabel('Predictions', fontsize=18)\n",
    "plt.ylabel('Actuals', fontsize=18)\n",
    "plt.title('Confusion Matrix', fontsize=18)\n",
    "plt.show()"
   ]
  },
  {
   "cell_type": "code",
   "execution_count": 81,
   "id": "a3572ec8",
   "metadata": {},
   "outputs": [],
   "source": [
    "a5=round(accuracy_score(y_test,y_pred5),3)\n",
    "p5=round(precision_score(y_test, y_pred5,pos_label='positive',average='micro'),3)\n",
    "r5=round(recall_score(y_test, y_pred5,pos_label='positive',average='micro'),3)\n",
    "f5=round(f1_score(y_test, y_pred5,pos_label='positive',average='micro'),3)"
   ]
  },
  {
   "cell_type": "code",
   "execution_count": 82,
   "id": "9e7b3bc3",
   "metadata": {},
   "outputs": [],
   "source": [
    "d5={\"Metric\":['Acccuracy Score','Precision Score','Recall Score','F1 Score'],\"Value\":[a5,p5,r5,f5]}"
   ]
  },
  {
   "cell_type": "code",
   "execution_count": 83,
   "id": "8fc2ab9b",
   "metadata": {},
   "outputs": [
    {
     "data": {
      "text/html": [
       "<div>\n",
       "<style scoped>\n",
       "    .dataframe tbody tr th:only-of-type {\n",
       "        vertical-align: middle;\n",
       "    }\n",
       "\n",
       "    .dataframe tbody tr th {\n",
       "        vertical-align: top;\n",
       "    }\n",
       "\n",
       "    .dataframe thead th {\n",
       "        text-align: right;\n",
       "    }\n",
       "</style>\n",
       "<table border=\"1\" class=\"dataframe\">\n",
       "  <thead>\n",
       "    <tr style=\"text-align: right;\">\n",
       "      <th></th>\n",
       "      <th>Metric</th>\n",
       "      <th>Value</th>\n",
       "    </tr>\n",
       "  </thead>\n",
       "  <tbody>\n",
       "    <tr>\n",
       "      <th>0</th>\n",
       "      <td>Acccuracy Score</td>\n",
       "      <td>0.47</td>\n",
       "    </tr>\n",
       "    <tr>\n",
       "      <th>1</th>\n",
       "      <td>Precision Score</td>\n",
       "      <td>0.47</td>\n",
       "    </tr>\n",
       "    <tr>\n",
       "      <th>2</th>\n",
       "      <td>Recall Score</td>\n",
       "      <td>0.47</td>\n",
       "    </tr>\n",
       "    <tr>\n",
       "      <th>3</th>\n",
       "      <td>F1 Score</td>\n",
       "      <td>0.47</td>\n",
       "    </tr>\n",
       "  </tbody>\n",
       "</table>\n",
       "</div>"
      ],
      "text/plain": [
       "            Metric  Value\n",
       "0  Acccuracy Score   0.47\n",
       "1  Precision Score   0.47\n",
       "2     Recall Score   0.47\n",
       "3         F1 Score   0.47"
      ]
     },
     "execution_count": 83,
     "metadata": {},
     "output_type": "execute_result"
    }
   ],
   "source": [
    "pd.DataFrame(d5)"
   ]
  },
  {
   "cell_type": "markdown",
   "id": "bcc8e2a9",
   "metadata": {},
   "source": [
    "# Gradient Boosting"
   ]
  },
  {
   "cell_type": "code",
   "execution_count": 84,
   "id": "0544d0be",
   "metadata": {},
   "outputs": [
    {
     "data": {
      "text/plain": [
       "GradientBoostingClassifier()"
      ]
     },
     "execution_count": 84,
     "metadata": {},
     "output_type": "execute_result"
    }
   ],
   "source": [
    "#To fit the model\n",
    "from sklearn.ensemble import GradientBoostingClassifier\n",
    "gb = GradientBoostingClassifier()\n",
    "gb.fit(X_train, y_train)"
   ]
  },
  {
   "cell_type": "code",
   "execution_count": 85,
   "id": "6bcb3392",
   "metadata": {},
   "outputs": [
    {
     "name": "stdout",
     "output_type": "stream",
     "text": [
      "Predicted values are:  [3 3 2 1 3 2 1 4 1 4 2 2 3 3 2 3 1 1 3 0 4 1 0 1 1 1 4 1 2 3 3 1 3 1 1 1 4\n",
      " 3 2 2 4 1 4 0 3 1 1 3 1 3 4 1 1 1 3 2 1 1 1 0 1 3 1 1 1 3 3 1 3 3 2 2 1 0\n",
      " 4 3 4 2 4 1 4 2 1 1 1 1 3 1 1 1 2 1 1 2 1 0 4 3 1 1 3 4 1 2 1 2 4 4 0 0 3\n",
      " 3 1 3 0 1 3 3 1 2 1 3 0 3 3 3 1 2 1 3 3 1 1 3 1 2 3 3 3 3 0 4 3 4 4 2 1 3\n",
      " 3 1 1 3 3 1 3 3 2 1 2 2 3 3 1 2 3 1 2 2 3 3 1 4 1 1 1 3 2 4 1 1 1 1 0 3 0\n",
      " 2 3 3 1 1 1 1 1 4 1 3 2 1 4 4 1 1 3 2 1 3 3 3 0 1 1 3 1 3 2 2 3 1 3 3 2 1\n",
      " 0 1 2 3 3 1 3 2 1 1 3 3 3 4 2 2 2 3 1 2 3 1 1 2 1 1 4 3 1 3 3 3 1 3 3 1 2\n",
      " 1 4 1 3 0 4 4 3 1 1 1 1 1 1 4 1 2 1 2 1 1 3 1 3 2 3 2 1 4 1 4 3 3 1 3 0 3\n",
      " 3 2 2 2 3 3 0 1 4 1 4 1 3 2 2 1 1 3 3 3 1 3 3 2 1 4 1 3 3 1 1 1 1 1 1 1 3\n",
      " 1 2 2 4 1 3 1 3 2 1 1 3 1 1 1 3 3 1 2 1 2 3 2 3 0 1 3 3 2 1 1 1 1 1 1 3 0\n",
      " 3 4 1 3 1 1 2 1 1 1 2 1 3 1 1 4 2 2 3 4 1 1 0 1 3 1 1 4 1 2 1 1 0 3 1 3 0\n",
      " 3 1 0 4 1 1 2 3 1 3 1 1 4 1 1 2 1 1 4 3 2 4 4 1 0 1 1 3 1 1 3 3 4 3 2 4 1\n",
      " 1 1 1 3 4 3 2 3 1 2 1 3 4 2 1 1 1 0 1 3 2 2 2 3 2 3 2 2 3 3 1 3 1 2 3 3 0\n",
      " 2 3 2 3 1 1 1 1 4 1 1 3 4 1 0 1 1 2 2 1 1 1 2 4 1 1 1 1 1 1 2 3 3 3 4 2 3\n",
      " 3 1 3 1 1 3 3 1 1 1 1 3 0 1 0 3 3 2 4 2 2 1 0 0 3 1 2 3 1 1 4 1 2 1 1 1 4\n",
      " 1 2 3 1 1 1 2 1 3 1 2 3 1 1 1 4 3 0 3 2 1 3 4 4 1 2 1 1 1 3 1 2 2 2 1 2 3\n",
      " 3 2 3 1 1 3 4 1 3 3 1 0 1 3 0 3 2 1 1 2 1 3 2 4 1 4 4 3 3 2 3 3 3 1 2 2 3\n",
      " 4 1 1 2 1 1 0 3 2 2 2 3 1 1 1 3 3 3 2 1 1 2 1 3 4 4 3 1 1 1 1 0 3 0 3 1 4\n",
      " 3 2 4 3 2 1 4 3 3 1 1 1 2 1 3 1 1 0 1 1 0 1 3 2 1 1 2 2 4 1 4 0 1 4 2 1 1\n",
      " 3 3 3 1 1 0 3 3 3 4 4 1 3 2 0 1 1 3 1 1 4 1 1 3 2 1 1 1 1 1 1 4 0 4 3 2 3\n",
      " 2 3 1 1 2 2 1 1 4 4 2 1 1 3 4 0 1 3 3 1 2 3 1 2 1 2 1 1 1 4 3 1 2 3 2 3 2]\n"
     ]
    }
   ],
   "source": [
    "#To predict\n",
    "y_pred6 = gb.predict(X_test)\n",
    "print('Predicted values are: ',y_pred6)"
   ]
  },
  {
   "cell_type": "code",
   "execution_count": 86,
   "id": "51c3951b",
   "metadata": {},
   "outputs": [],
   "source": [
    "#Confusion Matrix\n",
    "conf6=confusion_matrix(y_test,y_pred6)"
   ]
  },
  {
   "cell_type": "code",
   "execution_count": 87,
   "id": "cab8364e",
   "metadata": {},
   "outputs": [
    {
     "data": {
      "image/png": "[encoded data removed]",
      "text/plain": [
       "<Figure size 360x360 with 1 Axes>"
      ]
     },
     "metadata": {
      "needs_background": "light"
     },
     "output_type": "display_data"
    }
   ],
   "source": [
    "fig, ax = plt.subplots(figsize=(5, 5))\n",
    "ax.matshow(conf6, cmap=plt.cm.Oranges, alpha=0.3)\n",
    "for i in range(conf6.shape[0]):\n",
    "    for j in range(conf6.shape[1]):\n",
    "        ax.text(x=j, y=i,s=conf6[i, j], va='center', ha='center', size='xx-large')\n",
    " \n",
    "plt.xlabel('Predictions', fontsize=18)\n",
    "plt.ylabel('Actuals', fontsize=18)\n",
    "plt.title('Confusion Matrix', fontsize=18)\n",
    "plt.show()"
   ]
  },
  {
   "cell_type": "code",
   "execution_count": 88,
   "id": "e39c7b34",
   "metadata": {},
   "outputs": [],
   "source": [
    "a6=round(accuracy_score(y_test,y_pred6),3)\n",
    "p6=round(precision_score(y_test, y_pred6,pos_label='positive',average='micro'),3)\n",
    "r6=round(recall_score(y_test, y_pred6,pos_label='positive',average='micro'),3)\n",
    "f6=round(f1_score(y_test, y_pred6,pos_label='positive',average='micro'),3)"
   ]
  },
  {
   "cell_type": "code",
   "execution_count": 89,
   "id": "02b64198",
   "metadata": {},
   "outputs": [],
   "source": [
    "d6={\"Metric\":['Acccuracy Score','Precision Score','Recall Score','F1 Score'],\"Value\":[a6,p6,r6,f6]}"
   ]
  },
  {
   "cell_type": "code",
   "execution_count": 90,
   "id": "c0760f23",
   "metadata": {},
   "outputs": [
    {
     "data": {
      "text/html": [
       "<div>\n",
       "<style scoped>\n",
       "    .dataframe tbody tr th:only-of-type {\n",
       "        vertical-align: middle;\n",
       "    }\n",
       "\n",
       "    .dataframe tbody tr th {\n",
       "        vertical-align: top;\n",
       "    }\n",
       "\n",
       "    .dataframe thead th {\n",
       "        text-align: right;\n",
       "    }\n",
       "</style>\n",
       "<table border=\"1\" class=\"dataframe\">\n",
       "  <thead>\n",
       "    <tr style=\"text-align: right;\">\n",
       "      <th></th>\n",
       "      <th>Metric</th>\n",
       "      <th>Value</th>\n",
       "    </tr>\n",
       "  </thead>\n",
       "  <tbody>\n",
       "    <tr>\n",
       "      <th>0</th>\n",
       "      <td>Acccuracy Score</td>\n",
       "      <td>0.501</td>\n",
       "    </tr>\n",
       "    <tr>\n",
       "      <th>1</th>\n",
       "      <td>Precision Score</td>\n",
       "      <td>0.501</td>\n",
       "    </tr>\n",
       "    <tr>\n",
       "      <th>2</th>\n",
       "      <td>Recall Score</td>\n",
       "      <td>0.501</td>\n",
       "    </tr>\n",
       "    <tr>\n",
       "      <th>3</th>\n",
       "      <td>F1 Score</td>\n",
       "      <td>0.501</td>\n",
       "    </tr>\n",
       "  </tbody>\n",
       "</table>\n",
       "</div>"
      ],
      "text/plain": [
       "            Metric  Value\n",
       "0  Acccuracy Score  0.501\n",
       "1  Precision Score  0.501\n",
       "2     Recall Score  0.501\n",
       "3         F1 Score  0.501"
      ]
     },
     "execution_count": 90,
     "metadata": {},
     "output_type": "execute_result"
    }
   ],
   "source": [
    "pd.DataFrame(d6)"
   ]
  },
  {
   "cell_type": "markdown",
   "id": "5e7bb2d6",
   "metadata": {},
   "source": [
    "# Naive Bayes Classifier"
   ]
  },
  {
   "cell_type": "code",
   "execution_count": 91,
   "id": "1734ffd9",
   "metadata": {},
   "outputs": [
    {
     "data": {
      "text/plain": [
       "GaussianNB()"
      ]
     },
     "execution_count": 91,
     "metadata": {},
     "output_type": "execute_result"
    }
   ],
   "source": [
    "#To fit the model\n",
    "from sklearn.naive_bayes import GaussianNB\n",
    "gnb = GaussianNB()\n",
    "gnb.fit(X_train, y_train)"
   ]
  },
  {
   "cell_type": "code",
   "execution_count": 92,
   "id": "fc80d071",
   "metadata": {},
   "outputs": [
    {
     "name": "stdout",
     "output_type": "stream",
     "text": [
      "Predicted values are:  [3 3 3 1 1 2 1 0 2 0 3 4 3 3 4 1 1 1 3 0 0 1 0 3 1 1 4 2 3 1 3 1 1 1 1 1 0\n",
      " 3 3 3 4 1 0 4 3 1 1 3 1 3 4 1 1 1 3 2 1 1 3 0 1 3 3 1 1 3 3 1 3 2 2 2 1 0\n",
      " 0 1 2 4 4 1 0 2 1 1 2 1 3 3 3 1 3 1 3 2 3 0 4 3 1 1 1 4 1 2 3 3 4 1 0 0 3\n",
      " 1 1 1 0 1 1 3 1 4 3 3 0 1 1 1 1 2 3 3 3 3 1 3 3 2 3 1 3 3 0 4 3 0 2 3 3 1\n",
      " 3 1 1 1 3 1 3 3 2 1 4 1 3 3 1 2 3 1 2 1 3 1 1 4 3 1 1 3 2 0 1 3 1 3 0 3 0\n",
      " 1 1 3 3 1 2 1 1 4 1 2 1 1 0 0 3 1 3 1 2 1 3 3 0 1 1 3 1 3 1 2 3 1 3 3 2 1\n",
      " 0 1 2 1 3 1 3 3 1 1 3 1 2 0 4 4 2 3 1 4 3 1 1 2 1 1 4 3 1 3 3 3 1 3 1 1 2\n",
      " 1 2 2 1 0 0 0 1 1 1 1 1 1 1 0 2 1 2 1 1 1 3 1 3 1 3 4 1 0 2 2 3 3 1 3 0 3\n",
      " 3 4 2 4 3 3 0 3 0 1 2 1 3 3 3 1 2 3 3 1 1 4 1 3 1 0 1 3 1 1 3 1 3 1 2 1 3\n",
      " 1 1 1 4 1 3 3 3 4 1 1 3 3 1 1 2 1 1 3 3 3 3 4 3 0 1 3 2 3 2 1 1 1 2 2 3 0\n",
      " 3 0 1 3 1 1 1 3 1 2 2 3 3 3 1 4 3 4 1 4 3 2 4 3 3 1 1 2 1 2 1 3 0 1 1 3 0\n",
      " 3 3 0 0 1 3 4 1 3 1 1 1 4 1 1 3 1 3 4 1 2 4 0 1 0 1 1 3 1 1 3 3 4 3 1 0 3\n",
      " 1 1 1 3 4 1 1 3 1 1 1 3 0 2 3 2 3 0 1 1 3 4 4 2 4 3 1 4 3 3 1 3 3 2 1 3 0\n",
      " 1 3 4 3 3 2 3 1 2 1 1 3 0 1 0 1 1 1 1 3 1 2 2 4 1 2 1 1 2 1 2 3 1 3 0 2 3\n",
      " 2 1 3 3 1 3 1 1 2 2 3 1 0 1 0 1 3 1 0 1 2 1 0 0 2 3 2 1 2 1 0 1 4 1 3 1 0\n",
      " 3 2 3 1 1 1 1 1 3 1 3 3 1 2 2 0 1 1 3 3 2 3 4 2 1 3 1 1 2 3 1 2 2 2 1 3 3\n",
      " 3 3 3 3 3 3 0 1 3 1 1 0 1 1 0 3 1 3 1 4 3 1 1 1 1 0 2 3 3 1 1 1 3 3 3 1 3\n",
      " 2 1 1 3 1 1 0 3 1 1 4 3 1 1 2 3 1 3 1 2 1 2 1 3 2 0 3 1 3 1 1 0 3 0 3 1 0\n",
      " 1 4 0 3 1 3 0 3 1 1 2 1 2 2 3 1 3 0 1 1 0 3 3 0 1 1 1 3 0 1 0 0 2 0 1 1 1\n",
      " 2 1 3 2 3 4 2 1 3 0 4 2 3 1 0 3 1 3 2 1 0 1 1 3 1 2 1 3 1 1 1 0 0 0 1 2 3\n",
      " 2 3 1 3 1 1 3 1 2 2 3 1 1 3 2 0 1 3 3 1 2 3 1 1 3 1 1 3 1 0 3 3 1 3 2 3 1]\n"
     ]
    }
   ],
   "source": [
    "#To predict\n",
    "y_pred8 = gnb.predict(X_test)\n",
    "print('Predicted values are: ',y_pred8)"
   ]
  },
  {
   "cell_type": "code",
   "execution_count": 93,
   "id": "6bd01c65",
   "metadata": {},
   "outputs": [],
   "source": [
    "#Confusion Matrix\n",
    "conf8=confusion_matrix(y_test,y_pred8)"
   ]
  },
  {
   "cell_type": "code",
   "execution_count": 94,
   "id": "64a5e1f0",
   "metadata": {},
   "outputs": [
    {
     "data": {
      "image/png": "[encoded data removed]",
      "text/plain": [
       "<Figure size 360x360 with 1 Axes>"
      ]
     },
     "metadata": {
      "needs_background": "light"
     },
     "output_type": "display_data"
    }
   ],
   "source": [
    "fig, ax = plt.subplots(figsize=(5, 5))\n",
    "ax.matshow(conf8, cmap=plt.cm.Oranges, alpha=0.3)\n",
    "for i in range(conf8.shape[0]):\n",
    "    for j in range(conf8.shape[1]):\n",
    "        ax.text(x=j, y=i,s=conf8[i, j], va='center', ha='center', size='xx-large')\n",
    " \n",
    "plt.xlabel('Predictions', fontsize=18)\n",
    "plt.ylabel('Actuals', fontsize=18)\n",
    "plt.title('Confusion Matrix', fontsize=18)\n",
    "plt.show()"
   ]
  },
  {
   "cell_type": "code",
   "execution_count": 95,
   "id": "9c0351b6",
   "metadata": {},
   "outputs": [],
   "source": [
    "a8=round(accuracy_score(y_test,y_pred8),3)\n",
    "p8=round(precision_score(y_test, y_pred8,pos_label='positive',average='micro'),3)\n",
    "r8=round(recall_score(y_test, y_pred8,pos_label='positive',average='micro'),3)\n",
    "f8=round(f1_score(y_test, y_pred8,pos_label='positive',average='micro'),3)"
   ]
  },
  {
   "cell_type": "code",
   "execution_count": 96,
   "id": "9289f328",
   "metadata": {},
   "outputs": [],
   "source": [
    "d8={\"Metric\":['Acccuracy Score','Precision Score','Recall Score','F1 Score'],\"Value\":[a8,p8,r8,f8]}"
   ]
  },
  {
   "cell_type": "code",
   "execution_count": 97,
   "id": "d715e6a4",
   "metadata": {},
   "outputs": [
    {
     "data": {
      "text/html": [
       "<div>\n",
       "<style scoped>\n",
       "    .dataframe tbody tr th:only-of-type {\n",
       "        vertical-align: middle;\n",
       "    }\n",
       "\n",
       "    .dataframe tbody tr th {\n",
       "        vertical-align: top;\n",
       "    }\n",
       "\n",
       "    .dataframe thead th {\n",
       "        text-align: right;\n",
       "    }\n",
       "</style>\n",
       "<table border=\"1\" class=\"dataframe\">\n",
       "  <thead>\n",
       "    <tr style=\"text-align: right;\">\n",
       "      <th></th>\n",
       "      <th>Metric</th>\n",
       "      <th>Value</th>\n",
       "    </tr>\n",
       "  </thead>\n",
       "  <tbody>\n",
       "    <tr>\n",
       "      <th>0</th>\n",
       "      <td>Acccuracy Score</td>\n",
       "      <td>0.436</td>\n",
       "    </tr>\n",
       "    <tr>\n",
       "      <th>1</th>\n",
       "      <td>Precision Score</td>\n",
       "      <td>0.436</td>\n",
       "    </tr>\n",
       "    <tr>\n",
       "      <th>2</th>\n",
       "      <td>Recall Score</td>\n",
       "      <td>0.436</td>\n",
       "    </tr>\n",
       "    <tr>\n",
       "      <th>3</th>\n",
       "      <td>F1 Score</td>\n",
       "      <td>0.436</td>\n",
       "    </tr>\n",
       "  </tbody>\n",
       "</table>\n",
       "</div>"
      ],
      "text/plain": [
       "            Metric  Value\n",
       "0  Acccuracy Score  0.436\n",
       "1  Precision Score  0.436\n",
       "2     Recall Score  0.436\n",
       "3         F1 Score  0.436"
      ]
     },
     "execution_count": 97,
     "metadata": {},
     "output_type": "execute_result"
    }
   ],
   "source": [
    "pd.DataFrame(d8)"
   ]
  },
  {
   "cell_type": "code",
   "execution_count": 98,
   "id": "4dea7d93",
   "metadata": {},
   "outputs": [
    {
     "data": {
      "text/plain": [
       "MultinomialNB()"
      ]
     },
     "execution_count": 98,
     "metadata": {},
     "output_type": "execute_result"
    }
   ],
   "source": [
    "#To fit the model\n",
    "from sklearn.naive_bayes import MultinomialNB\n",
    "mnb = MultinomialNB()\n",
    "mnb.fit(X_train, y_train)"
   ]
  },
  {
   "cell_type": "code",
   "execution_count": 99,
   "id": "b82ff582",
   "metadata": {},
   "outputs": [
    {
     "name": "stdout",
     "output_type": "stream",
     "text": [
      "Predicted values are:  [1 1 3 1 1 1 1 1 1 1 3 1 1 1 1 1 1 1 1 1 1 1 1 1 1 1 1 1 3 1 1 1 1 1 1 1 1\n",
      " 1 1 1 1 1 1 1 1 1 1 1 1 1 1 1 1 1 1 1 1 1 1 1 1 1 1 1 1 1 1 1 1 1 1 1 1 1\n",
      " 1 1 1 1 1 1 1 1 1 1 1 1 1 3 1 1 1 1 1 1 1 1 1 1 1 1 1 1 1 1 1 3 1 1 1 1 1\n",
      " 1 1 1 1 1 1 1 1 1 1 1 1 1 1 1 1 1 1 1 1 1 1 1 1 1 1 1 1 1 1 1 1 1 3 1 3 1\n",
      " 1 1 1 1 1 1 1 1 1 1 1 1 1 1 1 1 1 1 1 1 1 1 1 1 1 1 1 1 1 1 1 1 1 1 1 1 3\n",
      " 1 1 1 1 1 1 1 1 1 1 1 1 3 1 1 1 3 3 1 1 1 1 1 3 1 1 1 1 1 1 1 1 1 1 1 1 1\n",
      " 1 1 1 1 1 1 1 1 1 1 1 1 1 1 1 1 1 1 1 1 1 1 1 1 1 1 1 1 1 1 1 1 1 1 1 1 1\n",
      " 1 1 1 1 1 1 1 1 1 1 1 1 1 1 1 1 1 1 1 1 1 1 1 3 3 1 1 1 1 1 3 1 1 1 1 1 1\n",
      " 1 1 1 1 1 1 1 1 1 1 1 1 1 1 3 1 1 1 3 1 1 1 1 1 1 1 1 1 1 1 1 1 1 1 1 1 3\n",
      " 1 1 1 1 1 1 1 1 1 1 1 1 1 1 1 1 1 1 3 1 3 1 3 1 1 1 1 1 1 1 1 1 1 1 1 1 1\n",
      " 1 1 1 1 1 1 1 1 1 1 1 1 1 1 1 1 1 1 1 1 3 1 1 1 1 1 1 1 1 1 1 1 1 1 1 1 1\n",
      " 1 1 1 1 1 1 1 1 1 1 1 1 1 1 1 1 1 1 1 1 3 1 1 1 1 1 1 1 1 1 1 1 1 1 1 1 1\n",
      " 1 1 1 1 1 1 1 1 1 1 1 1 1 1 1 1 1 1 1 1 1 1 1 1 1 1 1 1 1 1 1 1 1 1 1 1 1\n",
      " 1 1 1 1 1 1 1 1 1 1 1 1 1 1 1 1 1 1 1 1 1 1 1 1 1 1 1 1 1 1 1 1 1 1 1 1 1\n",
      " 1 1 1 1 1 1 1 1 1 1 1 1 1 1 1 1 1 1 1 1 1 1 1 1 1 3 1 1 1 1 1 1 1 1 1 1 1\n",
      " 1 1 1 1 1 1 1 1 1 1 1 1 1 1 1 1 1 1 1 1 1 1 1 1 1 1 1 1 1 1 1 1 1 1 1 1 1\n",
      " 1 1 1 1 1 1 1 1 1 1 1 3 1 1 1 1 1 1 1 1 1 1 1 1 1 1 3 1 1 1 1 1 1 1 3 1 1\n",
      " 1 1 1 1 1 1 1 1 1 1 1 1 1 1 1 1 1 1 1 1 1 1 1 1 1 1 3 1 1 1 1 1 1 1 1 1 1\n",
      " 1 1 1 1 1 1 1 1 1 1 1 1 1 1 1 1 1 3 1 1 1 1 1 1 3 1 1 1 1 1 1 1 1 1 1 1 1\n",
      " 1 1 1 1 1 1 1 1 1 1 1 1 1 1 1 1 1 1 1 1 1 1 1 3 1 1 1 1 1 1 1 1 1 1 1 1 1\n",
      " 1 1 1 1 1 1 1 1 3 1 3 1 1 1 1 1 1 1 1 1 1 1 1 1 1 1 1 1 1 1 1 1 1 1 1 1 1]\n"
     ]
    }
   ],
   "source": [
    "#To predict\n",
    "y_pred9 = mnb.predict(X_test)\n",
    "print('Predicted values are: ',y_pred9)"
   ]
  },
  {
   "cell_type": "code",
   "execution_count": 100,
   "id": "96e519e5",
   "metadata": {},
   "outputs": [],
   "source": [
    "#Confusion Matrix\n",
    "conf9=confusion_matrix(y_test,y_pred9)"
   ]
  },
  {
   "cell_type": "code",
   "execution_count": 101,
   "id": "f985d29b",
   "metadata": {},
   "outputs": [
    {
     "data": {
      "image/png": "[encoded data removed]",
      "text/plain": [
       "<Figure size 360x360 with 1 Axes>"
      ]
     },
     "metadata": {
      "needs_background": "light"
     },
     "output_type": "display_data"
    }
   ],
   "source": [
    "fig, ax = plt.subplots(figsize=(5, 5))\n",
    "ax.matshow(conf9, cmap=plt.cm.Oranges, alpha=0.3)\n",
    "for i in range(conf9.shape[0]):\n",
    "    for j in range(conf9.shape[1]):\n",
    "        ax.text(x=j, y=i,s=conf9[i, j], va='center', ha='center', size='xx-large')\n",
    " \n",
    "plt.xlabel('Predictions', fontsize=18)\n",
    "plt.ylabel('Actuals', fontsize=18)\n",
    "plt.title('Confusion Matrix', fontsize=18)\n",
    "plt.show()"
   ]
  },
  {
   "cell_type": "code",
   "execution_count": 102,
   "id": "f5aa4bca",
   "metadata": {},
   "outputs": [],
   "source": [
    "a9=round(accuracy_score(y_test,y_pred9),3)\n",
    "p9=round(precision_score(y_test, y_pred9,pos_label='positive',average='micro'),3)\n",
    "r9=round(recall_score(y_test, y_pred9,pos_label='positive',average='micro'),3)\n",
    "f9=round(f1_score(y_test, y_pred9,pos_label='positive',average='micro'),3)"
   ]
  },
  {
   "cell_type": "code",
   "execution_count": 103,
   "id": "0af7c470",
   "metadata": {},
   "outputs": [],
   "source": [
    "d9={\"Metric\":['Acccuracy Score','Precision Score','Recall Score','F1 Score'],\"Value\":[a9,p9,r9,f9]}"
   ]
  },
  {
   "cell_type": "code",
   "execution_count": 104,
   "id": "d3591822",
   "metadata": {},
   "outputs": [
    {
     "data": {
      "text/html": [
       "<div>\n",
       "<style scoped>\n",
       "    .dataframe tbody tr th:only-of-type {\n",
       "        vertical-align: middle;\n",
       "    }\n",
       "\n",
       "    .dataframe tbody tr th {\n",
       "        vertical-align: top;\n",
       "    }\n",
       "\n",
       "    .dataframe thead th {\n",
       "        text-align: right;\n",
       "    }\n",
       "</style>\n",
       "<table border=\"1\" class=\"dataframe\">\n",
       "  <thead>\n",
       "    <tr style=\"text-align: right;\">\n",
       "      <th></th>\n",
       "      <th>Metric</th>\n",
       "      <th>Value</th>\n",
       "    </tr>\n",
       "  </thead>\n",
       "  <tbody>\n",
       "    <tr>\n",
       "      <th>0</th>\n",
       "      <td>Acccuracy Score</td>\n",
       "      <td>0.337</td>\n",
       "    </tr>\n",
       "    <tr>\n",
       "      <th>1</th>\n",
       "      <td>Precision Score</td>\n",
       "      <td>0.337</td>\n",
       "    </tr>\n",
       "    <tr>\n",
       "      <th>2</th>\n",
       "      <td>Recall Score</td>\n",
       "      <td>0.337</td>\n",
       "    </tr>\n",
       "    <tr>\n",
       "      <th>3</th>\n",
       "      <td>F1 Score</td>\n",
       "      <td>0.337</td>\n",
       "    </tr>\n",
       "  </tbody>\n",
       "</table>\n",
       "</div>"
      ],
      "text/plain": [
       "            Metric  Value\n",
       "0  Acccuracy Score  0.337\n",
       "1  Precision Score  0.337\n",
       "2     Recall Score  0.337\n",
       "3         F1 Score  0.337"
      ]
     },
     "execution_count": 104,
     "metadata": {},
     "output_type": "execute_result"
    }
   ],
   "source": [
    "pd.DataFrame(d9)"
   ]
  },
  {
   "cell_type": "code",
   "execution_count": 105,
   "id": "ec5d8dbc",
   "metadata": {},
   "outputs": [
    {
     "data": {
      "text/plain": [
       "ComplementNB()"
      ]
     },
     "execution_count": 105,
     "metadata": {},
     "output_type": "execute_result"
    }
   ],
   "source": [
    "#To fit the model\n",
    "from sklearn.naive_bayes import ComplementNB\n",
    "cnb = ComplementNB()\n",
    "cnb.fit(X_train, y_train)"
   ]
  },
  {
   "cell_type": "code",
   "execution_count": 106,
   "id": "d408bc86",
   "metadata": {},
   "outputs": [
    {
     "name": "stdout",
     "output_type": "stream",
     "text": [
      "Predicted values are:  [3 3 3 1 1 3 3 4 4 4 3 4 3 3 4 1 1 3 1 4 4 1 4 3 1 1 4 4 3 1 1 1 1 3 1 1 4\n",
      " 3 3 3 4 1 4 0 3 1 1 3 3 3 4 1 1 1 3 0 3 1 3 4 3 1 3 3 1 1 3 1 3 4 4 4 4 4\n",
      " 4 3 1 4 0 3 4 4 1 1 4 3 1 3 1 1 3 1 3 4 3 4 0 1 3 1 1 4 3 3 3 3 4 1 4 4 1\n",
      " 1 3 1 4 1 1 3 1 4 1 3 4 1 3 1 1 0 3 1 1 3 3 3 3 4 1 1 3 3 4 4 3 4 3 3 3 1\n",
      " 1 1 1 1 3 1 3 3 4 1 4 1 3 1 1 4 3 3 1 3 3 1 3 4 3 3 3 3 4 4 1 3 1 3 4 3 4\n",
      " 3 1 1 3 1 4 3 1 3 1 4 4 3 4 4 3 3 3 1 4 1 1 3 4 3 3 1 3 3 1 4 3 3 3 1 4 1\n",
      " 4 1 4 3 3 1 1 3 3 3 3 1 4 4 4 4 4 3 3 4 1 3 1 4 1 3 4 3 1 1 3 3 1 3 1 3 4\n",
      " 3 1 4 1 4 4 4 1 1 4 1 1 3 1 0 4 1 4 1 1 1 3 1 3 3 3 4 3 4 4 3 3 3 1 1 4 3\n",
      " 1 3 1 4 3 3 4 3 4 3 4 4 3 3 3 3 4 3 3 1 1 3 1 4 1 0 1 3 1 1 3 1 3 1 4 1 3\n",
      " 3 1 1 4 1 3 3 1 4 1 1 1 3 1 1 4 1 1 3 3 3 1 4 3 4 1 3 4 3 4 1 3 3 4 4 3 4\n",
      " 1 4 1 1 1 1 3 3 1 4 4 3 3 3 3 4 3 4 4 4 3 4 4 3 3 3 1 1 1 3 1 3 4 3 1 1 4\n",
      " 1 3 4 0 1 3 4 1 1 1 1 1 4 3 1 0 1 3 4 1 3 4 4 3 4 1 3 3 1 3 1 1 4 1 3 4 3\n",
      " 3 3 1 1 4 1 1 3 4 1 4 3 4 4 3 4 3 4 3 3 3 4 4 4 4 3 4 4 3 3 1 1 3 3 1 3 4\n",
      " 3 3 4 3 3 4 3 3 4 1 3 1 4 1 4 3 3 3 1 3 1 4 4 4 3 4 1 1 4 3 4 3 1 3 4 4 1\n",
      " 4 1 3 1 1 3 1 3 4 4 1 1 4 1 4 1 1 1 4 1 4 1 4 4 4 3 0 3 4 1 4 3 4 1 3 3 4\n",
      " 3 4 3 3 1 1 1 1 1 3 3 3 1 4 4 4 1 1 3 3 4 3 4 0 1 4 3 1 4 1 1 0 4 4 3 3 1\n",
      " 1 3 3 1 3 3 4 3 1 1 1 4 3 1 4 1 0 3 1 4 3 3 1 1 1 4 3 3 3 3 1 1 1 3 3 3 1\n",
      " 3 3 1 3 3 1 4 1 1 3 4 1 3 4 4 3 1 3 1 4 1 3 1 3 0 4 3 3 3 1 1 4 3 4 1 3 4\n",
      " 1 4 4 3 3 1 4 1 1 1 4 1 4 4 3 1 3 4 3 1 4 1 3 4 3 1 3 3 4 1 4 4 4 4 1 1 3\n",
      " 4 1 3 4 3 4 4 1 3 4 4 4 3 3 4 3 1 1 4 3 4 1 1 3 1 4 1 3 1 1 3 4 4 4 3 4 1\n",
      " 3 3 1 3 3 1 3 1 3 3 3 3 3 1 0 4 3 3 1 1 4 1 3 3 1 3 1 3 3 4 1 3 3 3 1 3 3]\n"
     ]
    }
   ],
   "source": [
    "#To predict\n",
    "y_pred10 = cnb.predict(X_test)\n",
    "print('Predicted values are: ',y_pred10)"
   ]
  },
  {
   "cell_type": "code",
   "execution_count": 107,
   "id": "16bbc513",
   "metadata": {},
   "outputs": [],
   "source": [
    "#Confusion Matrix\n",
    "conf10=confusion_matrix(y_test,y_pred10)"
   ]
  },
  {
   "cell_type": "code",
   "execution_count": 108,
   "id": "7f1cb858",
   "metadata": {},
   "outputs": [
    {
     "data": {
      "image/png": "[encoded data removed]",
      "text/plain": [
       "<Figure size 360x360 with 1 Axes>"
      ]
     },
     "metadata": {
      "needs_background": "light"
     },
     "output_type": "display_data"
    }
   ],
   "source": [
    "fig, ax = plt.subplots(figsize=(5, 5))\n",
    "ax.matshow(conf10, cmap=plt.cm.Oranges, alpha=0.3)\n",
    "for i in range(conf10.shape[0]):\n",
    "    for j in range(conf10.shape[1]):\n",
    "        ax.text(x=j, y=i,s=conf10[i, j], va='center', ha='center', size='xx-large')\n",
    " \n",
    "plt.xlabel('Predictions', fontsize=18)\n",
    "plt.ylabel('Actuals', fontsize=18)\n",
    "plt.title('Confusion Matrix', fontsize=18)\n",
    "plt.show()"
   ]
  },
  {
   "cell_type": "code",
   "execution_count": 109,
   "id": "38205634",
   "metadata": {},
   "outputs": [],
   "source": [
    "a10=round(accuracy_score(y_test,y_pred10),3)\n",
    "p10=round(precision_score(y_test, y_pred10,pos_label='positive',average='micro'),3)\n",
    "r10=round(recall_score(y_test, y_pred10,pos_label='positive',average='micro'),3)\n",
    "f10=round(f1_score(y_test, y_pred10,pos_label='positive',average='micro'),3)"
   ]
  },
  {
   "cell_type": "code",
   "execution_count": 110,
   "id": "9d343f29",
   "metadata": {},
   "outputs": [],
   "source": [
    "d10={\"Metric\":['Acccuracy Score','Precision Score','Recall Score','F1 Score'],\"Value\":[a10,p10,r10,f10]}"
   ]
  },
  {
   "cell_type": "code",
   "execution_count": 111,
   "id": "86be3472",
   "metadata": {},
   "outputs": [
    {
     "data": {
      "text/html": [
       "<div>\n",
       "<style scoped>\n",
       "    .dataframe tbody tr th:only-of-type {\n",
       "        vertical-align: middle;\n",
       "    }\n",
       "\n",
       "    .dataframe tbody tr th {\n",
       "        vertical-align: top;\n",
       "    }\n",
       "\n",
       "    .dataframe thead th {\n",
       "        text-align: right;\n",
       "    }\n",
       "</style>\n",
       "<table border=\"1\" class=\"dataframe\">\n",
       "  <thead>\n",
       "    <tr style=\"text-align: right;\">\n",
       "      <th></th>\n",
       "      <th>Metric</th>\n",
       "      <th>Value</th>\n",
       "    </tr>\n",
       "  </thead>\n",
       "  <tbody>\n",
       "    <tr>\n",
       "      <th>0</th>\n",
       "      <td>Acccuracy Score</td>\n",
       "      <td>0.332</td>\n",
       "    </tr>\n",
       "    <tr>\n",
       "      <th>1</th>\n",
       "      <td>Precision Score</td>\n",
       "      <td>0.332</td>\n",
       "    </tr>\n",
       "    <tr>\n",
       "      <th>2</th>\n",
       "      <td>Recall Score</td>\n",
       "      <td>0.332</td>\n",
       "    </tr>\n",
       "    <tr>\n",
       "      <th>3</th>\n",
       "      <td>F1 Score</td>\n",
       "      <td>0.332</td>\n",
       "    </tr>\n",
       "  </tbody>\n",
       "</table>\n",
       "</div>"
      ],
      "text/plain": [
       "            Metric  Value\n",
       "0  Acccuracy Score  0.332\n",
       "1  Precision Score  0.332\n",
       "2     Recall Score  0.332\n",
       "3         F1 Score  0.332"
      ]
     },
     "execution_count": 111,
     "metadata": {},
     "output_type": "execute_result"
    }
   ],
   "source": [
    "pd.DataFrame(d10)"
   ]
  },
  {
   "cell_type": "markdown",
   "id": "c00acec9",
   "metadata": {},
   "source": [
    "Highest accuracy is from Gradient Boosting classifier with 50.1%"
   ]
  },
  {
   "cell_type": "markdown",
   "id": "01308b57",
   "metadata": {},
   "source": [
    "# Fine Tuning of Hyperparameters"
   ]
  },
  {
   "cell_type": "markdown",
   "id": "2730bd5d",
   "metadata": {},
   "source": [
    "# Logistic Regression"
   ]
  },
  {
   "cell_type": "code",
   "execution_count": 112,
   "id": "538b5e01",
   "metadata": {},
   "outputs": [
    {
     "data": {
      "text/plain": [
       "{'lr__C': 5, 'lr__penalty': 'l2', 'lr__solver': 'newton-cg'}"
      ]
     },
     "execution_count": 112,
     "metadata": {},
     "output_type": "execute_result"
    }
   ],
   "source": [
    "from sklearn.model_selection import GridSearchCV\n",
    "from sklearn.pipeline import Pipeline\n",
    "lr_pipe = Pipeline([('lr', LogisticRegression())])\n",
    "params = [{'lr__C': [1,5,9],\n",
    "         'lr__solver': ['liblinear', 'newton-cg', 'sag', 'saga', 'lbfgs'],\n",
    "         'lr__penalty': ['l1','l2','elasticnet','none']}]\n",
    "gs_lr = GridSearchCV(lr_pipe,\n",
    "                      param_grid=params,\n",
    "                      scoring='accuracy',\n",
    "                      cv=5)\n",
    "gs_lr.fit(X_train, y_train)\n",
    "gs_lr.best_params_"
   ]
  },
  {
   "cell_type": "code",
   "execution_count": 113,
   "id": "f97febb5",
   "metadata": {},
   "outputs": [
    {
     "data": {
      "text/plain": [
       "LogisticRegression(C=1, penalty='none', solver='newton-cg')"
      ]
     },
     "execution_count": 113,
     "metadata": {},
     "output_type": "execute_result"
    }
   ],
   "source": [
    "lr=LogisticRegression(C=1 , solver='newton-cg', penalty='none')\n",
    "lr.fit(X_train, y_train)"
   ]
  },
  {
   "cell_type": "code",
   "execution_count": 114,
   "id": "b77e593b",
   "metadata": {},
   "outputs": [
    {
     "name": "stdout",
     "output_type": "stream",
     "text": [
      "F1 score is 0.47361647361647363\n",
      "Accuracy  score is 0.47361647361647363\n"
     ]
    }
   ],
   "source": [
    "print ('F1 score is',f1_score(y_test,lr.predict(X_test),average='micro'))\n",
    "print ('Accuracy  score is',accuracy_score(y_test,lr.predict(X_test)))"
   ]
  },
  {
   "cell_type": "markdown",
   "id": "8fc58c32",
   "metadata": {},
   "source": [
    "Accuracy of logistic regression increased from 45.9% to 47.3% after tuning of hyperparameter"
   ]
  },
  {
   "cell_type": "markdown",
   "id": "eb99e957",
   "metadata": {},
   "source": [
    "# SVM"
   ]
  },
  {
   "cell_type": "code",
   "execution_count": 115,
   "id": "2f827a0d",
   "metadata": {},
   "outputs": [
    {
     "data": {
      "text/plain": [
       "SVC(gamma='auto', random_state=42)"
      ]
     },
     "execution_count": 115,
     "metadata": {},
     "output_type": "execute_result"
    }
   ],
   "source": [
    "svc=SVC(gamma='auto',random_state=42)\n",
    "svc.fit(X_train,y_train)"
   ]
  },
  {
   "cell_type": "code",
   "execution_count": 116,
   "id": "f3643aa5",
   "metadata": {},
   "outputs": [
    {
     "data": {
      "text/plain": [
       "0.46332046332046334"
      ]
     },
     "execution_count": 116,
     "metadata": {},
     "output_type": "execute_result"
    }
   ],
   "source": [
    "accuracy_score(y_test,svc.predict(X_test))"
   ]
  },
  {
   "cell_type": "markdown",
   "id": "f9f18c0b",
   "metadata": {},
   "source": [
    "Accuracy increased form 44.7% to 46.3% after hyperparameter tuning."
   ]
  },
  {
   "cell_type": "markdown",
   "id": "ce6400c7",
   "metadata": {},
   "source": [
    "# Decision Tree Classifier"
   ]
  },
  {
   "cell_type": "code",
   "execution_count": 117,
   "id": "fa4da863",
   "metadata": {},
   "outputs": [
    {
     "data": {
      "text/plain": [
       "{'dt__criterion': 'entropy', 'dt__max_depth': 7, 'dt__splitter': 'random'}"
      ]
     },
     "execution_count": 117,
     "metadata": {},
     "output_type": "execute_result"
    }
   ],
   "source": [
    "from sklearn.model_selection import GridSearchCV\n",
    "from sklearn.pipeline import Pipeline\n",
    "dt_pipe = Pipeline([('dt', DecisionTreeClassifier())])\n",
    "params = [{'dt__criterion': ['gini','entropy'],\n",
    "         'dt__splitter': ['best', 'random'],\n",
    "         'dt__max_depth': [2, 7,9]}]\n",
    "gs_dt = GridSearchCV(dt_pipe,\n",
    "                      param_grid=params,\n",
    "                      scoring='accuracy',\n",
    "                      cv=5)\n",
    "gs_dt.fit(X_train, y_train)\n",
    "gs_dt.best_params_"
   ]
  },
  {
   "cell_type": "code",
   "execution_count": 118,
   "id": "efdff0c0",
   "metadata": {},
   "outputs": [
    {
     "data": {
      "text/plain": [
       "DecisionTreeClassifier(criterion='entropy', max_depth=9)"
      ]
     },
     "execution_count": 118,
     "metadata": {},
     "output_type": "execute_result"
    }
   ],
   "source": [
    "dt=DecisionTreeClassifier(criterion='entropy',max_depth=9,splitter='best')\n",
    "dt.fit(X_train,y_train)"
   ]
  },
  {
   "cell_type": "code",
   "execution_count": 119,
   "id": "553785f2",
   "metadata": {},
   "outputs": [
    {
     "name": "stdout",
     "output_type": "stream",
     "text": [
      "F1 score is 0.4942084942084942\n",
      "Accuracy  score is 0.4942084942084942\n"
     ]
    }
   ],
   "source": [
    "print ('F1 score is',f1_score(y_test,dt.predict(X_test),average='micro'))\n",
    "print ('Accuracy  score is',accuracy_score(y_test,dt.predict(X_test)))"
   ]
  },
  {
   "cell_type": "markdown",
   "id": "b8823dbe",
   "metadata": {},
   "source": [
    "Accuracy increased from 43.1 to 49.4%"
   ]
  },
  {
   "cell_type": "markdown",
   "id": "9f477488",
   "metadata": {},
   "source": [
    "# Gradient Boosting Classifier"
   ]
  },
  {
   "cell_type": "code",
   "execution_count": 120,
   "id": "6702cd97",
   "metadata": {},
   "outputs": [
    {
     "data": {
      "text/plain": [
       "GradientBoostingClassifier(max_depth=5)"
      ]
     },
     "execution_count": 120,
     "metadata": {},
     "output_type": "execute_result"
    }
   ],
   "source": [
    "gb=GradientBoostingClassifier(max_depth=5)\n",
    "gb.fit(X_train,y_train)"
   ]
  },
  {
   "cell_type": "code",
   "execution_count": 121,
   "id": "44915fda",
   "metadata": {},
   "outputs": [],
   "source": [
    "y_pred=gb.predict(X_test)"
   ]
  },
  {
   "cell_type": "code",
   "execution_count": 122,
   "id": "be54a510",
   "metadata": {},
   "outputs": [
    {
     "data": {
      "text/plain": [
       "0.862601975096608"
      ]
     },
     "execution_count": 122,
     "metadata": {},
     "output_type": "execute_result"
    }
   ],
   "source": [
    "accuracy_score(y_train,gb.predict(X_train))"
   ]
  },
  {
   "cell_type": "markdown",
   "id": "d092717d",
   "metadata": {},
   "source": [
    "Accuracy increased from 50.1% to 86.2%"
   ]
  },
  {
   "cell_type": "markdown",
   "id": "411b88de",
   "metadata": {},
   "source": [
    "# Result"
   ]
  },
  {
   "cell_type": "markdown",
   "id": "d56cd4ec",
   "metadata": {},
   "source": [
    "Comparing all algorithms for classification, we can see that Gradient Boosting Algorithm is the best for predicting the side effect of the drugs,accuracy of predicted test values is 50.1%. After tuning, accuracy increased to 86.2%. "
   ]
  },
  {
   "cell_type": "code",
   "execution_count": null,
   "id": "772f9456",
   "metadata": {},
   "outputs": [],
   "source": []
  }
 ],
 "metadata": {
  "kernelspec": {
   "display_name": "Python 3",
   "language": "python",
   "name": "python3"
  },
  "language_info": {
   "codemirror_mode": {
    "name": "ipython",
    "version": 3
   },
   "file_extension": ".py",
   "mimetype": "text/x-python",
   "name": "python",
   "nbconvert_exporter": "python",
   "pygments_lexer": "ipython3",
   "version": "3.8.8"
  }
 },
 "nbformat": 4,
 "nbformat_minor": 5
}
